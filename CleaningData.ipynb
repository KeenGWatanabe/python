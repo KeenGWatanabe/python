{
 "cells": [
  {
   "cell_type": "code",
   "execution_count": 2,
   "metadata": {},
   "outputs": [
    {
     "data": {
      "text/html": [
       "<div>\n",
       "<style scoped>\n",
       "    .dataframe tbody tr th:only-of-type {\n",
       "        vertical-align: middle;\n",
       "    }\n",
       "\n",
       "    .dataframe tbody tr th {\n",
       "        vertical-align: top;\n",
       "    }\n",
       "\n",
       "    .dataframe thead th {\n",
       "        text-align: right;\n",
       "    }\n",
       "</style>\n",
       "<table border=\"1\" class=\"dataframe\">\n",
       "  <thead>\n",
       "    <tr style=\"text-align: right;\">\n",
       "      <th></th>\n",
       "      <th>SalesOrderID</th>\n",
       "      <th>Revenue</th>\n",
       "      <th>Quantity</th>\n",
       "    </tr>\n",
       "  </thead>\n",
       "  <tbody>\n",
       "    <tr>\n",
       "      <th>0</th>\n",
       "      <td>43659</td>\n",
       "      <td>23153$</td>\n",
       "      <td>12</td>\n",
       "    </tr>\n",
       "    <tr>\n",
       "      <th>1</th>\n",
       "      <td>43660</td>\n",
       "      <td>1457$</td>\n",
       "      <td>2</td>\n",
       "    </tr>\n",
       "  </tbody>\n",
       "</table>\n",
       "</div>"
      ],
      "text/plain": [
       "   SalesOrderID Revenue   Quantity \n",
       "0         43659  23153$          12\n",
       "1         43660   1457$           2"
      ]
     },
     "execution_count": 2,
     "metadata": {},
     "output_type": "execute_result"
    }
   ],
   "source": [
    "import pandas as pd\n",
    "#import csv file and output header\n",
    "sales = pd.read_csv('sales.csv')\n",
    "sales.head(2)"
   ]
  },
  {
   "cell_type": "code",
   "execution_count": 3,
   "metadata": {},
   "outputs": [
    {
     "data": {
      "text/plain": [
       "SalesOrderID     int64\n",
       "Revenue         object\n",
       " Quantity        int64\n",
       "dtype: object"
      ]
     },
     "execution_count": 3,
     "metadata": {},
     "output_type": "execute_result"
    }
   ],
   "source": [
    "sales.dtypes"
   ]
  },
  {
   "cell_type": "code",
   "execution_count": 4,
   "metadata": {},
   "outputs": [
    {
     "name": "stdout",
     "output_type": "stream",
     "text": [
      "<class 'pandas.core.frame.DataFrame'>\n",
      "RangeIndex: 2 entries, 0 to 1\n",
      "Data columns (total 3 columns):\n",
      " #   Column        Non-Null Count  Dtype \n",
      "---  ------        --------------  ----- \n",
      " 0   SalesOrderID  2 non-null      int64 \n",
      " 1   Revenue       2 non-null      object\n",
      " 2    Quantity     2 non-null      int64 \n",
      "dtypes: int64(2), object(1)\n",
      "memory usage: 176.0+ bytes\n"
     ]
    }
   ],
   "source": [
    "#get dataframe info\n",
    "sales.info()"
   ]
  },
  {
   "cell_type": "code",
   "execution_count": 5,
   "metadata": {},
   "outputs": [
    {
     "data": {
      "text/plain": [
       "'23153$1457$'"
      ]
     },
     "execution_count": 5,
     "metadata": {},
     "output_type": "execute_result"
    }
   ],
   "source": [
    "#print sum of all Revenue column\n",
    "sales['Revenue'].sum()"
   ]
  },
  {
   "cell_type": "code",
   "execution_count": 10,
   "metadata": {},
   "outputs": [
    {
     "name": "stdout",
     "output_type": "stream",
     "text": [
      "<class 'pandas.core.frame.DataFrame'>\n",
      "RangeIndex: 2 entries, 0 to 1\n",
      "Data columns (total 3 columns):\n",
      " #   Column        Non-Null Count  Dtype\n",
      "---  ------        --------------  -----\n",
      " 0   SalesOrderID  2 non-null      int64\n",
      " 1   Revenue       2 non-null      int32\n",
      " 2    Quantity     2 non-null      int64\n",
      "dtypes: int32(1), int64(2)\n",
      "memory usage: 168.0 bytes\n"
     ]
    }
   ],
   "source": [
    "import pandas as pd\n",
    "#import csv file and output header\n",
    "sales = pd.read_csv('sales.csv')\n",
    "\n",
    "# remove $ from Revenue column\n",
    "sales['Revenue'] = sales['Revenue'].str.strip('$')\n",
    "sales['Revenue'] = sales['Revenue'].astype('int')\n",
    "#verify that Revenue is now an integer\n",
    "assert sales['Revenue'].dtype == 'int'\n",
    "sales.info()\n"
   ]
  },
  {
   "cell_type": "code",
   "execution_count": 13,
   "metadata": {},
   "outputs": [
    {
     "name": "stdout",
     "output_type": "stream",
     "text": [
      "<class 'pandas.core.frame.DataFrame'>\n",
      "RangeIndex: 5 entries, 0 to 4\n",
      "Data columns (total 9 columns):\n",
      " #   Column           Non-Null Count  Dtype \n",
      "---  ------           --------------  ----- \n",
      " 0   duration         5 non-null      object\n",
      " 1   station_A_id     5 non-null      int64 \n",
      " 2   station_A-name   5 non-null      object\n",
      " 3   station_B_id     5 non-null      int64 \n",
      " 4   station_B_name   5 non-null      object\n",
      " 5   bike_id          5 non-null      int64 \n",
      " 6   user_type        5 non-null      int64 \n",
      " 7   user_birth_year  5 non-null      int64 \n",
      " 8   user_gender      5 non-null      object\n",
      "dtypes: int64(5), object(4)\n",
      "memory usage: 488.0+ bytes\n",
      "None\n",
      "count    5.000000\n",
      "mean     2.000000\n",
      "std      0.707107\n",
      "min      1.000000\n",
      "25%      2.000000\n",
      "50%      2.000000\n",
      "75%      2.000000\n",
      "max      3.000000\n",
      "Name: user_type, dtype: float64\n",
      "count     5\n",
      "unique    3\n",
      "top       2\n",
      "freq      3\n",
      "Name: user_type_cat, dtype: int64\n"
     ]
    }
   ],
   "source": [
    "import pandas as pd\n",
    "# encoding='unicode_escape' is used to avoid scrutinizing data type thoroughly and not loading data\n",
    "ride_sharing = pd.read_csv('ride_sharing.csv', encoding = 'unicode_escape')\n",
    "# Print the information of ride_sharing\n",
    "print(ride_sharing.info())\n",
    "\n",
    "# Print summary statistics of user_type column\n",
    "print(ride_sharing['user_type'].describe())\n",
    "# Convert user_type from integer to category\n",
    "ride_sharing['user_type_cat'] = ride_sharing['user_type'].astype('category')\n",
    "  \n",
    "# Write an assert statement confirming the change\n",
    "assert ride_sharing['user_type_cat'].dtype == 'category'\n",
    "\n",
    "# Print new summary statistics \n",
    "print(ride_sharing['user_type_cat'].describe())"
   ]
  },
  {
   "cell_type": "code",
   "execution_count": 20,
   "metadata": {},
   "outputs": [
    {
     "name": "stdout",
     "output_type": "stream",
     "text": [
      "     duration  duration_time\n",
      "0  12 minutes             12\n",
      "1  24 minutes             24\n",
      "2   8 minutes              8\n",
      "3   4 minutes              4\n",
      "4  11 minutes             11\n",
      "11.8\n"
     ]
    }
   ],
   "source": [
    "import pandas as pd\n",
    "import numpy as np\n",
    "\n",
    "# encoding='unicode_escape' is used to avoid scrutinizing data type thoroughly and not loading data\n",
    "ride_sharing = pd.read_csv('ride_sharing.csv', encoding = 'unicode_escape')\n",
    "\n",
    "# Strip duration of minutes\n",
    "ride_sharing['duration_trim'] = ride_sharing['duration'].str.strip('minutes')\n",
    "\n",
    "# Convert duration to integer\n",
    "ride_sharing['duration_time'] = ride_sharing['duration_trim'].astype('int')\n",
    "\n",
    "# Write an assert statement making sure of conversion\n",
    "assert ride_sharing['duration_time'].dtype == 'int'\n",
    "\n",
    "# Print formed columns and calculate average ride duration \n",
    "print(ride_sharing[['duration','duration_time']])\n",
    "print(np.mean(ride_sharing['duration_time']))"
   ]
  },
  {
   "cell_type": "code",
   "execution_count": 49,
   "metadata": {},
   "outputs": [
    {
     "data": {
      "text/plain": [
       "Text(0.5, 1.0, 'Average rating of movies (1-5)')"
      ]
     },
     "execution_count": 49,
     "metadata": {},
     "output_type": "execute_result"
    },
    {
     "data": {
      "image/png": "[encoded data removed]",
      "text/plain": [
       "<Figure size 640x480 with 1 Axes>"
      ]
     },
     "metadata": {},
     "output_type": "display_data"
    }
   ],
   "source": [
    "import matplotlib.pyplot as plt\n",
    "import pandas as pd\n",
    "\n",
    "movies = pd.DataFrame( [['The Godfather', 5],['Frozen 2', 3],['Shrek', 4],['Confidence', 1],['Jaws', 5],['A Beautiful Mind', 6], ['La Vita e Bella', 6], ['Amelie', 6],])\n",
    "column_names=['movie_name','avg_rating']          \n",
    "movies.columns = column_names\n",
    "\n",
    "plt.hist(movies['avg_rating'])\n",
    "plt.title('Average rating of movies (1-5)')"
   ]
  },
  {
   "cell_type": "code",
   "execution_count": 40,
   "metadata": {},
   "outputs": [
    {
     "name": "stdout",
     "output_type": "stream",
     "text": [
      "subscription_date    datetime64[ns]\n",
      "user_name                    object\n",
      "Country                      object\n",
      "dtype: object\n",
      "  subscription_date  user_name           Country\n",
      "0        2021-01-01      Marah             Nauru\n",
      "1        2020-08-09     Joshua           Austria\n",
      "2        2020-01-01      Heidi            Guinea\n",
      "3        2020-01-01       Rina      Turkmenistan\n",
      "4        2020-07-11  Christine  Marshall Islands\n"
     ]
    }
   ],
   "source": [
    "import pandas as pd\n",
    "import datetime as dt\n",
    "\n",
    "#type date format as y%m%d% sequence only\n",
    "user_signups = pd.DataFrame( [['2021/1/1', 'Marah', 'Nauru'],['2020/8/9', 'Joshua', 'Austria'],['2020/1/1', 'Heidi', 'Guinea'],['2020/1/1', 'Rina', 'Turkmenistan'],['2020/7/11', 'Christine', 'Marshall Islands']], )\n",
    "column_names=['subscription_date','user_name','Country']          \n",
    "user_signups.columns = column_names\n",
    "\n",
    "#convert to date\n",
    "user_signups['subscription_date'] = pd.to_datetime(user_signups['subscription_date'])\n",
    "\n",
    "#check dtypes\n",
    "print(user_signups.dtypes)\n",
    "\n",
    "print(user_signups)\n"
   ]
  },
  {
   "cell_type": "code",
   "execution_count": 53,
   "metadata": {},
   "outputs": [
    {
     "name": "stdout",
     "output_type": "stream",
     "text": [
      "         movie_name  avg_rating\n",
      "5  A Beautiful Mind           6\n",
      "6   La Vita e Bella           6\n",
      "7            Amelie           6\n",
      "      movie_name  avg_rating\n",
      "0  The Godfather           5\n",
      "1       Frozen 2           3\n",
      "2          Shrek           4\n",
      "3     Confidence           1\n",
      "4           Jaws           5\n"
     ]
    }
   ],
   "source": [
    "import pandas as pd\n",
    "\n",
    "movies = pd.DataFrame( [['The Godfather', 5],['Frozen 2', 3],['Shrek', 4],['Confidence', 1],['Jaws', 5],['A Beautiful Mind', 6], ['La Vita e Bella', 6], ['Amelie', 6],])\n",
    "column_names=['movie_name','avg_rating']          \n",
    "movies.columns = column_names\n",
    "#output movies with rating >5\n",
    "print(movies[movies['avg_rating'] > 5])\n",
    "#drop values using filtering\n",
    "movies1 = movies[movies['avg_rating'] <=5]\n",
    "print(movies1)\n"
   ]
  },
  {
   "cell_type": "code",
   "execution_count": 8,
   "metadata": {},
   "outputs": [
    {
     "name": "stdout",
     "output_type": "stream",
     "text": [
      "         movie_name  avg_rating\n",
      "5  A Beautiful Mind           6\n",
      "6   La Vita e Bella           6\n",
      "7            Amelie           6\n",
      "      movie_name  avg_rating\n",
      "0  The Godfather           5\n",
      "1       Frozen 2           3\n",
      "2          Shrek           4\n",
      "3     Confidence           1\n",
      "4           Jaws           5\n"
     ]
    }
   ],
   "source": [
    "import pandas as pd\n",
    "\n",
    "movies = pd.DataFrame( [['The Godfather', 5],['Frozen 2', 3],['Shrek', 4],['Confidence', 1],['Jaws', 5],['A Beautiful Mind', 6], ['La Vita e Bella', 6], ['Amelie', 6],])\n",
    "column_names=['movie_name','avg_rating']          \n",
    "movies.columns = column_names\n",
    "\n",
    "#output movies with rating >5\n",
    "print(movies[movies['avg_rating'] > 5])\n",
    "#drop values using .drop()\n",
    "movies1 = movies.drop(movies[movies['avg_rating'] > 5].index, inplace = True)\n",
    "#assert results\n",
    "#assert movies['avg_rating'].max() <= 5\n",
    "print(movies)\n"
   ]
  },
  {
   "cell_type": "code",
   "execution_count": 44,
   "metadata": {},
   "outputs": [
    {
     "name": "stdout",
     "output_type": "stream",
     "text": [
      "  subscription_date  user_name           Country\n",
      "0        2021-05-01      Marah             Nauru\n",
      "1        2020-08-09     Joshua           Austria\n",
      "2        2020-01-04      Heidi            Guinea\n",
      "3        2020-10-11       Rina      Turkmenistan\n",
      "4        2020-07-11  Christine  Marshall Islands\n"
     ]
    }
   ],
   "source": [
    "import pandas as pd\n",
    "import datetime as dt\n",
    "\n",
    "use1r_signups = pd.DataFrame( [['2021/5/1', 'Marah', 'Nauru'],['2020/8/9', 'Joshua', 'Austria'],['2020/1/4', 'Heidi', 'Guinea'],['2020/10/11', 'Rina', 'Turkmenistan'],['2020/7/11', 'Christine', 'Marshall Islands']], )\n",
    "column_names=['subscription_date','user_name','Country']          \n",
    "user_signups.columns = column_names\n",
    "\n",
    "#convert to date\n",
    "user_signups['subscription_date'] = pd.to_datetime(user_signups['subscription_date'])\n",
    "\n",
    "#Drop values using filtering\n",
    "user_signups1 = user_signups[user_signups['subscription_date'] > '2021/1/1']\n",
    "print(user_signups)\n",
    "\n"
   ]
  },
  {
   "cell_type": "code",
   "execution_count": 47,
   "metadata": {},
   "outputs": [
    {
     "name": "stdout",
     "output_type": "stream",
     "text": [
      "  subscription_date  user_name           Country\n",
      "1        2020-08-09     Joshua           Austria\n",
      "2        2020-01-04      Heidi            Guinea\n",
      "3        2020-10-11       Rina      Turkmenistan\n",
      "4        2020-07-11  Christine  Marshall Islands\n"
     ]
    }
   ],
   "source": [
    "import pandas as pd\n",
    "import datetime as dt\n",
    "\n",
    "use1r_signups = pd.DataFrame( [['2021/5/1', 'Marah', 'Nauru'],['2020/8/9', 'Joshua', 'Austria'],['2020/1/4', 'Heidi', 'Guinea'],['2020/10/11', 'Rina', 'Turkmenistan'],['2020/7/11', 'Christine', 'Marshall Islands']], )\n",
    "column_names=['subscription_date','user_name','Country']          \n",
    "user_signups.columns = column_names\n",
    "\n",
    "#convert to date\n",
    "user_signups['subscription_date'] = pd.to_datetime(user_signups['subscription_date'])\n",
    "\n",
    "#Drop values using .drop()\n",
    "user_signups1 = user_signups.drop(user_signups[user_signups['subscription_date'] > '2021/1/1'].index, inplace = True)\n",
    "\n",
    "print(user_signups)\n"
   ]
  },
  {
   "cell_type": "code",
   "execution_count": 49,
   "metadata": {},
   "outputs": [
    {
     "ename": "TypeError",
     "evalue": "'<' not supported between instances of 'datetime.date' and 'str'",
     "output_type": "error",
     "traceback": [
      "\u001b[1;31m---------------------------------------------------------------------------\u001b[0m",
      "\u001b[1;31mTypeError\u001b[0m                                 Traceback (most recent call last)",
      "Cell \u001b[1;32mIn[49], line 15\u001b[0m\n\u001b[0;32m     12\u001b[0m user_signups1 \u001b[39m=\u001b[39m user_signups\u001b[39m.\u001b[39mloc[user_signups[\u001b[39m'\u001b[39m\u001b[39msubscription_date\u001b[39m\u001b[39m'\u001b[39m] \u001b[39m>\u001b[39m \u001b[39m'\u001b[39m\u001b[39m2021/1/1\u001b[39m\u001b[39m'\u001b[39m, \u001b[39m'\u001b[39m\u001b[39msubscription_date\u001b[39m\u001b[39m'\u001b[39m] \u001b[39m=\u001b[39m \u001b[39m'\u001b[39m\u001b[39m2021/1/1\u001b[39m\u001b[39m'\u001b[39m\n\u001b[0;32m     14\u001b[0m \u001b[39m#Assert is true\u001b[39;00m\n\u001b[1;32m---> 15\u001b[0m \u001b[39massert\u001b[39;00m user_signups\u001b[39m.\u001b[39;49msubscription_date\u001b[39m.\u001b[39;49mmax()\u001b[39m.\u001b[39;49mdate() \u001b[39m<\u001b[39;49m \u001b[39m'\u001b[39;49m\u001b[39m2021/1/1\u001b[39;49m\u001b[39m'\u001b[39;49m\n\u001b[0;32m     17\u001b[0m \u001b[39mprint\u001b[39m(user_signups)\n\u001b[0;32m     18\u001b[0m \u001b[39m#convert to date\u001b[39;00m\n\u001b[0;32m     19\u001b[0m \u001b[39m#user_signups['subscription_date'] = pd.to_datetime(user_signups['subscription_date']).dt.date\u001b[39;00m\n",
      "\u001b[1;31mTypeError\u001b[0m: '<' not supported between instances of 'datetime.date' and 'str'"
     ]
    }
   ],
   "source": [
    "import pandas as pd\n",
    "import datetime as dt\n",
    "\n",
    "use1r_signups = pd.DataFrame( [['2021/5/1', 'Marah', 'Nauru'],['2020/8/9', 'Joshua', 'Austria'],['2020/1/4', 'Heidi', 'Guinea'],['2020/10/11', 'Rina', 'Turkmenistan'],['2020/7/11', 'Christine', 'Marshall Islands']], )\n",
    "column_names=['subscription_date','user_name','Country']          \n",
    "user_signups.columns = column_names\n",
    "\n",
    "#convert to date\n",
    "user_signups['subscription_date'] = pd.to_datetime(user_signups['subscription_date'])\n",
    "\n",
    "#Drop values using filtering\n",
    "user_signups1 = user_signups.loc[user_signups['subscription_date'] > '2021/1/1', 'subscription_date'] = '2021/1/1'\n",
    "\n",
    "#Assert is true\n",
    "assert user_signups.subscription_date.max().date() < '2021/1/1'\n",
    "\n",
    "print(user_signups)\n",
    "#convert to date\n",
    "#user_signups['subscription_date'] = pd.to_datetime(user_signups['subscription_date'])"
   ]
  },
  {
   "cell_type": "code",
   "execution_count": 51,
   "metadata": {},
   "outputs": [
    {
     "name": "stdout",
     "output_type": "stream",
     "text": [
      "count      5\n",
      "unique     2\n",
      "top       27\n",
      "freq       3\n",
      "Name: tire_sizes, dtype: int64\n"
     ]
    }
   ],
   "source": [
    "import pandas as pd\n",
    "# encoding='unicode_escape' is used to avoid scrutinizing data type thoroughly and not loading data\n",
    "ride_sharing = pd.read_csv('ride_sharing.csv', encoding = 'unicode_escape')\n",
    "\n",
    "# Convert tire_sizes to integer\n",
    "ride_sharing['tire_sizes'] = ride_sharing['tire_sizes'].astype('int')\n",
    "\n",
    "# Set all values above 27 to 27\n",
    "ride_sharing.loc[ride_sharing['tire_sizes'] > 27, 'tire_sizes'] = 27\n",
    "\n",
    "# Reconvert tire_sizes back to categorical\n",
    "ride_sharing['tire_sizes'] = ride_sharing['tire_sizes'].astype('category')\n",
    "\n",
    "# Print tire size description\n",
    "print(ride_sharing['tire_sizes'].describe())"
   ]
  },
  {
   "cell_type": "code",
   "execution_count": 2,
   "metadata": {},
   "outputs": [
    {
     "name": "stdout",
     "output_type": "stream",
     "text": [
      "2020-12-01\n"
     ]
    }
   ],
   "source": [
    "import pandas as pd\n",
    "import datetime as dt\n",
    "# encoding='unicode_escape' is used to avoid scrutinizing data type thoroughly and not loading data\n",
    "ride_sharing = pd.read_csv('ride_sharing.csv', encoding = 'unicode_escape')\n",
    "\n",
    "# Convert ride_date to date\n",
    "ride_sharing['ride_dt'] = pd.to_datetime(ride_sharing['ride_dt']).dt.date\n",
    "\n",
    "# Save today's date\n",
    "today = dt.date.today()\n",
    "\n",
    "# Set all in the future to today's date\n",
    "ride_sharing.loc[ride_sharing['ride_dt'] > today, 'ride_dt'] = today\n",
    "\n",
    "# Print maximum of ride_dt column\n",
    "print(ride_sharing['ride_dt'].max())"
   ]
  },
  {
   "cell_type": "code",
   "execution_count": null,
   "metadata": {},
   "outputs": [],
   "source": []
  }
 ],
 "metadata": {
  "kernelspec": {
   "display_name": "Python 3",
   "language": "python",
   "name": "python3"
  },
  "language_info": {
   "codemirror_mode": {
    "name": "ipython",
    "version": 3
   },
   "file_extension": ".py",
   "mimetype": "text/x-python",
   "name": "python",
   "nbconvert_exporter": "python",
   "pygments_lexer": "ipython3",
   "version": "3.11.0"
  },
  "orig_nbformat": 4
 },
 "nbformat": 4,
 "nbformat_minor": 2
}
