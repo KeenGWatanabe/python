{
 "cells": [
  {
   "attachments": {},
   "cell_type": "markdown",
   "metadata": {},
   "source": [
    "DATA RANGE PROBLEMS"
   ]
  },
  {
   "cell_type": "code",
   "execution_count": 2,
   "metadata": {},
   "outputs": [
    {
     "data": {
      "text/html": [
       "<div>\n",
       "<style scoped>\n",
       "    .dataframe tbody tr th:only-of-type {\n",
       "        vertical-align: middle;\n",
       "    }\n",
       "\n",
       "    .dataframe tbody tr th {\n",
       "        vertical-align: top;\n",
       "    }\n",
       "\n",
       "    .dataframe thead th {\n",
       "        text-align: right;\n",
       "    }\n",
       "</style>\n",
       "<table border=\"1\" class=\"dataframe\">\n",
       "  <thead>\n",
       "    <tr style=\"text-align: right;\">\n",
       "      <th></th>\n",
       "      <th>SalesOrderID</th>\n",
       "      <th>Revenue</th>\n",
       "      <th>Quantity</th>\n",
       "    </tr>\n",
       "  </thead>\n",
       "  <tbody>\n",
       "    <tr>\n",
       "      <th>0</th>\n",
       "      <td>43659</td>\n",
       "      <td>23153$</td>\n",
       "      <td>12</td>\n",
       "    </tr>\n",
       "    <tr>\n",
       "      <th>1</th>\n",
       "      <td>43660</td>\n",
       "      <td>1457$</td>\n",
       "      <td>2</td>\n",
       "    </tr>\n",
       "  </tbody>\n",
       "</table>\n",
       "</div>"
      ],
      "text/plain": [
       "   SalesOrderID Revenue   Quantity \n",
       "0         43659  23153$          12\n",
       "1         43660   1457$           2"
      ]
     },
     "execution_count": 2,
     "metadata": {},
     "output_type": "execute_result"
    }
   ],
   "source": [
    "import pandas as pd\n",
    "#import csv file and output header\n",
    "sales = pd.read_csv('sales.csv')\n",
    "sales.head(2)"
   ]
  },
  {
   "cell_type": "code",
   "execution_count": 3,
   "metadata": {},
   "outputs": [
    {
     "data": {
      "text/plain": [
       "SalesOrderID     int64\n",
       "Revenue         object\n",
       " Quantity        int64\n",
       "dtype: object"
      ]
     },
     "execution_count": 3,
     "metadata": {},
     "output_type": "execute_result"
    }
   ],
   "source": [
    "sales.dtypes"
   ]
  },
  {
   "cell_type": "code",
   "execution_count": 4,
   "metadata": {},
   "outputs": [
    {
     "name": "stdout",
     "output_type": "stream",
     "text": [
      "<class 'pandas.core.frame.DataFrame'>\n",
      "RangeIndex: 2 entries, 0 to 1\n",
      "Data columns (total 3 columns):\n",
      " #   Column        Non-Null Count  Dtype \n",
      "---  ------        --------------  ----- \n",
      " 0   SalesOrderID  2 non-null      int64 \n",
      " 1   Revenue       2 non-null      object\n",
      " 2    Quantity     2 non-null      int64 \n",
      "dtypes: int64(2), object(1)\n",
      "memory usage: 176.0+ bytes\n"
     ]
    }
   ],
   "source": [
    "#get dataframe info\n",
    "sales.info()"
   ]
  },
  {
   "cell_type": "code",
   "execution_count": 5,
   "metadata": {},
   "outputs": [
    {
     "data": {
      "text/plain": [
       "'23153$1457$'"
      ]
     },
     "execution_count": 5,
     "metadata": {},
     "output_type": "execute_result"
    }
   ],
   "source": [
    "#print sum of all Revenue column\n",
    "sales['Revenue'].sum()"
   ]
  },
  {
   "cell_type": "code",
   "execution_count": 10,
   "metadata": {},
   "outputs": [
    {
     "name": "stdout",
     "output_type": "stream",
     "text": [
      "<class 'pandas.core.frame.DataFrame'>\n",
      "RangeIndex: 2 entries, 0 to 1\n",
      "Data columns (total 3 columns):\n",
      " #   Column        Non-Null Count  Dtype\n",
      "---  ------        --------------  -----\n",
      " 0   SalesOrderID  2 non-null      int64\n",
      " 1   Revenue       2 non-null      int32\n",
      " 2    Quantity     2 non-null      int64\n",
      "dtypes: int32(1), int64(2)\n",
      "memory usage: 168.0 bytes\n"
     ]
    }
   ],
   "source": [
    "import pandas as pd\n",
    "#import csv file and output header\n",
    "sales = pd.read_csv('sales.csv')\n",
    "\n",
    "# remove $ from Revenue column\n",
    "sales['Revenue'] = sales['Revenue'].str.strip('$')\n",
    "sales['Revenue'] = sales['Revenue'].astype('int')\n",
    "#verify that Revenue is now an integer\n",
    "assert sales['Revenue'].dtype == 'int'\n",
    "sales.info()\n"
   ]
  },
  {
   "cell_type": "code",
   "execution_count": 13,
   "metadata": {},
   "outputs": [
    {
     "name": "stdout",
     "output_type": "stream",
     "text": [
      "<class 'pandas.core.frame.DataFrame'>\n",
      "RangeIndex: 5 entries, 0 to 4\n",
      "Data columns (total 9 columns):\n",
      " #   Column           Non-Null Count  Dtype \n",
      "---  ------           --------------  ----- \n",
      " 0   duration         5 non-null      object\n",
      " 1   station_A_id     5 non-null      int64 \n",
      " 2   station_A-name   5 non-null      object\n",
      " 3   station_B_id     5 non-null      int64 \n",
      " 4   station_B_name   5 non-null      object\n",
      " 5   bike_id          5 non-null      int64 \n",
      " 6   user_type        5 non-null      int64 \n",
      " 7   user_birth_year  5 non-null      int64 \n",
      " 8   user_gender      5 non-null      object\n",
      "dtypes: int64(5), object(4)\n",
      "memory usage: 488.0+ bytes\n",
      "None\n",
      "count    5.000000\n",
      "mean     2.000000\n",
      "std      0.707107\n",
      "min      1.000000\n",
      "25%      2.000000\n",
      "50%      2.000000\n",
      "75%      2.000000\n",
      "max      3.000000\n",
      "Name: user_type, dtype: float64\n",
      "count     5\n",
      "unique    3\n",
      "top       2\n",
      "freq      3\n",
      "Name: user_type_cat, dtype: int64\n"
     ]
    }
   ],
   "source": [
    "import pandas as pd\n",
    "# encoding='unicode_escape' is used to avoid scrutinizing data type thoroughly and not loading data\n",
    "ride_sharing = pd.read_csv('ride_sharing.csv', encoding = 'unicode_escape')\n",
    "# Print the information of ride_sharing\n",
    "print(ride_sharing.info())\n",
    "\n",
    "# Print summary statistics of user_type column\n",
    "print(ride_sharing['user_type'].describe())\n",
    "# Convert user_type from integer to category\n",
    "ride_sharing['user_type_cat'] = ride_sharing['user_type'].astype('category')\n",
    "  \n",
    "# Write an assert statement confirming the change\n",
    "assert ride_sharing['user_type_cat'].dtype == 'category'\n",
    "\n",
    "# Print new summary statistics \n",
    "print(ride_sharing['user_type_cat'].describe())"
   ]
  },
  {
   "cell_type": "code",
   "execution_count": 20,
   "metadata": {},
   "outputs": [
    {
     "name": "stdout",
     "output_type": "stream",
     "text": [
      "     duration  duration_time\n",
      "0  12 minutes             12\n",
      "1  24 minutes             24\n",
      "2   8 minutes              8\n",
      "3   4 minutes              4\n",
      "4  11 minutes             11\n",
      "11.8\n"
     ]
    }
   ],
   "source": [
    "import pandas as pd\n",
    "import numpy as np\n",
    "\n",
    "# encoding='unicode_escape' is used to avoid scrutinizing data type thoroughly and not loading data\n",
    "ride_sharing = pd.read_csv('ride_sharing.csv', encoding = 'unicode_escape')\n",
    "\n",
    "# Strip duration of minutes\n",
    "ride_sharing['duration_trim'] = ride_sharing['duration'].str.strip('minutes')\n",
    "\n",
    "# Convert duration to integer\n",
    "ride_sharing['duration_time'] = ride_sharing['duration_trim'].astype('int')\n",
    "\n",
    "# Write an assert statement making sure of conversion\n",
    "assert ride_sharing['duration_time'].dtype == 'int'\n",
    "\n",
    "# Print formed columns and calculate average ride duration \n",
    "print(ride_sharing[['duration','duration_time']])\n",
    "print(np.mean(ride_sharing['duration_time']))"
   ]
  },
  {
   "cell_type": "code",
   "execution_count": 49,
   "metadata": {},
   "outputs": [
    {
     "data": {
      "text/plain": [
       "Text(0.5, 1.0, 'Average rating of movies (1-5)')"
      ]
     },
     "execution_count": 49,
     "metadata": {},
     "output_type": "execute_result"
    },
    {
     "data": {
      "image/png": "[encoded data removed]",
      "text/plain": [
       "<Figure size 640x480 with 1 Axes>"
      ]
     },
     "metadata": {},
     "output_type": "display_data"
    }
   ],
   "source": [
    "import matplotlib.pyplot as plt\n",
    "import pandas as pd\n",
    "\n",
    "movies = pd.DataFrame( [['The Godfather', 5],['Frozen 2', 3],['Shrek', 4],['Confidence', 1],['Jaws', 5],['A Beautiful Mind', 6], ['La Vita e Bella', 6], ['Amelie', 6],])\n",
    "column_names=['movie_name','avg_rating']          \n",
    "movies.columns = column_names\n",
    "\n",
    "plt.hist(movies['avg_rating'])\n",
    "plt.title('Average rating of movies (1-5)')"
   ]
  },
  {
   "attachments": {},
   "cell_type": "markdown",
   "metadata": {},
   "source": [
    "DATA TYPES"
   ]
  },
  {
   "cell_type": "code",
   "execution_count": 40,
   "metadata": {},
   "outputs": [
    {
     "name": "stdout",
     "output_type": "stream",
     "text": [
      "subscription_date    datetime64[ns]\n",
      "user_name                    object\n",
      "Country                      object\n",
      "dtype: object\n",
      "  subscription_date  user_name           Country\n",
      "0        2021-01-01      Marah             Nauru\n",
      "1        2020-08-09     Joshua           Austria\n",
      "2        2020-01-01      Heidi            Guinea\n",
      "3        2020-01-01       Rina      Turkmenistan\n",
      "4        2020-07-11  Christine  Marshall Islands\n"
     ]
    }
   ],
   "source": [
    "import pandas as pd\n",
    "import datetime as dt\n",
    "\n",
    "#type date format as y%m%d% sequence only\n",
    "user_signups = pd.DataFrame( [['2021/1/1', 'Marah', 'Nauru'],['2020/8/9', 'Joshua', 'Austria'],['2020/1/1', 'Heidi', 'Guinea'],['2020/1/1', 'Rina', 'Turkmenistan'],['2020/7/11', 'Christine', 'Marshall Islands']], )\n",
    "column_names=['subscription_date','user_name','Country']          \n",
    "user_signups.columns = column_names\n",
    "\n",
    "#convert to date\n",
    "user_signups['subscription_date'] = pd.to_datetime(user_signups['subscription_date'])\n",
    "\n",
    "#check dtypes\n",
    "print(user_signups.dtypes)\n",
    "\n",
    "print(user_signups)\n"
   ]
  },
  {
   "cell_type": "code",
   "execution_count": 53,
   "metadata": {},
   "outputs": [
    {
     "name": "stdout",
     "output_type": "stream",
     "text": [
      "         movie_name  avg_rating\n",
      "5  A Beautiful Mind           6\n",
      "6   La Vita e Bella           6\n",
      "7            Amelie           6\n",
      "      movie_name  avg_rating\n",
      "0  The Godfather           5\n",
      "1       Frozen 2           3\n",
      "2          Shrek           4\n",
      "3     Confidence           1\n",
      "4           Jaws           5\n"
     ]
    }
   ],
   "source": [
    "import pandas as pd\n",
    "\n",
    "movies = pd.DataFrame( [['The Godfather', 5],['Frozen 2', 3],['Shrek', 4],['Confidence', 1],['Jaws', 5],['A Beautiful Mind', 6], ['La Vita e Bella', 6], ['Amelie', 6],])\n",
    "column_names=['movie_name','avg_rating']          \n",
    "movies.columns = column_names\n",
    "#output movies with rating >5\n",
    "print(movies[movies['avg_rating'] > 5])\n",
    "#drop values using filtering\n",
    "movies1 = movies[movies['avg_rating'] <=5]\n",
    "print(movies1)\n"
   ]
  },
  {
   "cell_type": "code",
   "execution_count": 8,
   "metadata": {},
   "outputs": [
    {
     "name": "stdout",
     "output_type": "stream",
     "text": [
      "         movie_name  avg_rating\n",
      "5  A Beautiful Mind           6\n",
      "6   La Vita e Bella           6\n",
      "7            Amelie           6\n",
      "      movie_name  avg_rating\n",
      "0  The Godfather           5\n",
      "1       Frozen 2           3\n",
      "2          Shrek           4\n",
      "3     Confidence           1\n",
      "4           Jaws           5\n"
     ]
    }
   ],
   "source": [
    "import pandas as pd\n",
    "\n",
    "movies = pd.DataFrame( [['The Godfather', 5],['Frozen 2', 3],['Shrek', 4],['Confidence', 1],['Jaws', 5],['A Beautiful Mind', 6], ['La Vita e Bella', 6], ['Amelie', 6],])\n",
    "column_names=['movie_name','avg_rating']          \n",
    "movies.columns = column_names\n",
    "\n",
    "#output movies with rating >5\n",
    "print(movies[movies['avg_rating'] > 5])\n",
    "#drop values using .drop()\n",
    "movies1 = movies.drop(movies[movies['avg_rating'] > 5].index, inplace = True)\n",
    "#assert results\n",
    "#assert movies['avg_rating'].max() <= 5\n",
    "print(movies)\n"
   ]
  },
  {
   "cell_type": "code",
   "execution_count": 44,
   "metadata": {},
   "outputs": [
    {
     "name": "stdout",
     "output_type": "stream",
     "text": [
      "  subscription_date  user_name           Country\n",
      "0        2021-05-01      Marah             Nauru\n",
      "1        2020-08-09     Joshua           Austria\n",
      "2        2020-01-04      Heidi            Guinea\n",
      "3        2020-10-11       Rina      Turkmenistan\n",
      "4        2020-07-11  Christine  Marshall Islands\n"
     ]
    }
   ],
   "source": [
    "import pandas as pd\n",
    "import datetime as dt\n",
    "\n",
    "use1r_signups = pd.DataFrame( [['2021/5/1', 'Marah', 'Nauru'],['2020/8/9', 'Joshua', 'Austria'],['2020/1/4', 'Heidi', 'Guinea'],['2020/10/11', 'Rina', 'Turkmenistan'],['2020/7/11', 'Christine', 'Marshall Islands']], )\n",
    "column_names=['subscription_date','user_name','Country']          \n",
    "user_signups.columns = column_names\n",
    "\n",
    "#convert to date\n",
    "user_signups['subscription_date'] = pd.to_datetime(user_signups['subscription_date'])\n",
    "\n",
    "#Drop values using filtering\n",
    "user_signups1 = user_signups[user_signups['subscription_date'] > '2021/1/1']\n",
    "print(user_signups)\n",
    "\n"
   ]
  },
  {
   "cell_type": "code",
   "execution_count": 47,
   "metadata": {},
   "outputs": [
    {
     "name": "stdout",
     "output_type": "stream",
     "text": [
      "  subscription_date  user_name           Country\n",
      "1        2020-08-09     Joshua           Austria\n",
      "2        2020-01-04      Heidi            Guinea\n",
      "3        2020-10-11       Rina      Turkmenistan\n",
      "4        2020-07-11  Christine  Marshall Islands\n"
     ]
    }
   ],
   "source": [
    "import pandas as pd\n",
    "import datetime as dt\n",
    "\n",
    "use1r_signups = pd.DataFrame( [['2021/5/1', 'Marah', 'Nauru'],['2020/8/9', 'Joshua', 'Austria'],['2020/1/4', 'Heidi', 'Guinea'],['2020/10/11', 'Rina', 'Turkmenistan'],['2020/7/11', 'Christine', 'Marshall Islands']], )\n",
    "column_names=['subscription_date','user_name','Country']          \n",
    "user_signups.columns = column_names\n",
    "\n",
    "#convert to date\n",
    "user_signups['subscription_date'] = pd.to_datetime(user_signups['subscription_date'])\n",
    "\n",
    "#Drop values using .drop()\n",
    "user_signups1 = user_signups.drop(user_signups[user_signups['subscription_date'] > '2021/1/1'].index, inplace = True)\n",
    "\n",
    "print(user_signups)\n"
   ]
  },
  {
   "cell_type": "code",
   "execution_count": 10,
   "metadata": {},
   "outputs": [
    {
     "ename": "TypeError",
     "evalue": "'>' not supported between instances of 'datetime.date' and 'float'",
     "output_type": "error",
     "traceback": [
      "\u001b[1;31m---------------------------------------------------------------------------\u001b[0m",
      "\u001b[1;31mTypeError\u001b[0m                                 Traceback (most recent call last)",
      "Cell \u001b[1;32mIn[10], line 12\u001b[0m\n\u001b[0;32m      9\u001b[0m user_signups[\u001b[39m'\u001b[39m\u001b[39msubscription_date\u001b[39m\u001b[39m'\u001b[39m] \u001b[39m=\u001b[39m pd\u001b[39m.\u001b[39mto_datetime(user_signups[\u001b[39m'\u001b[39m\u001b[39msubscription_date\u001b[39m\u001b[39m'\u001b[39m])\u001b[39m.\u001b[39mdt\u001b[39m.\u001b[39mdate\n\u001b[0;32m     11\u001b[0m \u001b[39m#Drop values using filtering\u001b[39;00m\n\u001b[1;32m---> 12\u001b[0m user_signups1 \u001b[39m=\u001b[39m user_signups\u001b[39m.\u001b[39mloc[user_signups[\u001b[39m'\u001b[39;49m\u001b[39msubscription_date\u001b[39;49m\u001b[39m'\u001b[39;49m] \u001b[39m>\u001b[39;49m \u001b[39m2021\u001b[39;49m\u001b[39m/\u001b[39;49m\u001b[39m1\u001b[39;49m\u001b[39m/\u001b[39;49m\u001b[39m1\u001b[39;49m, \u001b[39m'\u001b[39m\u001b[39msubscription_date\u001b[39m\u001b[39m'\u001b[39m] \u001b[39m=\u001b[39m \u001b[39m2021\u001b[39m\u001b[39m/\u001b[39m\u001b[39m1\u001b[39m\u001b[39m/\u001b[39m\u001b[39m1\u001b[39m\n\u001b[0;32m     14\u001b[0m \u001b[39m#Assert is true\u001b[39;00m\n\u001b[0;32m     15\u001b[0m \u001b[39massert\u001b[39;00m user_signups\u001b[39m.\u001b[39msubscription_date\u001b[39m.\u001b[39mmax()\u001b[39m.\u001b[39mdate() \u001b[39m<\u001b[39m \u001b[39m2021\u001b[39m\u001b[39m/\u001b[39m\u001b[39m1\u001b[39m\u001b[39m/\u001b[39m\u001b[39m1\u001b[39m\n",
      "File \u001b[1;32mc:\\Python311\\Lib\\site-packages\\pandas\\core\\ops\\common.py:81\u001b[0m, in \u001b[0;36m_unpack_zerodim_and_defer.<locals>.new_method\u001b[1;34m(self, other)\u001b[0m\n\u001b[0;32m     77\u001b[0m             \u001b[39mreturn\u001b[39;00m \u001b[39mNotImplemented\u001b[39m\n\u001b[0;32m     79\u001b[0m other \u001b[39m=\u001b[39m item_from_zerodim(other)\n\u001b[1;32m---> 81\u001b[0m \u001b[39mreturn\u001b[39;00m method(\u001b[39mself\u001b[39;49m, other)\n",
      "File \u001b[1;32mc:\\Python311\\Lib\\site-packages\\pandas\\core\\arraylike.py:56\u001b[0m, in \u001b[0;36mOpsMixin.__gt__\u001b[1;34m(self, other)\u001b[0m\n\u001b[0;32m     54\u001b[0m \u001b[39m@unpack_zerodim_and_defer\u001b[39m(\u001b[39m\"\u001b[39m\u001b[39m__gt__\u001b[39m\u001b[39m\"\u001b[39m)\n\u001b[0;32m     55\u001b[0m \u001b[39mdef\u001b[39;00m \u001b[39m__gt__\u001b[39m(\u001b[39mself\u001b[39m, other):\n\u001b[1;32m---> 56\u001b[0m     \u001b[39mreturn\u001b[39;00m \u001b[39mself\u001b[39;49m\u001b[39m.\u001b[39;49m_cmp_method(other, operator\u001b[39m.\u001b[39;49mgt)\n",
      "File \u001b[1;32mc:\\Python311\\Lib\\site-packages\\pandas\\core\\series.py:6092\u001b[0m, in \u001b[0;36mSeries._cmp_method\u001b[1;34m(self, other, op)\u001b[0m\n\u001b[0;32m   6089\u001b[0m rvalues \u001b[39m=\u001b[39m extract_array(other, extract_numpy\u001b[39m=\u001b[39m\u001b[39mTrue\u001b[39;00m, extract_range\u001b[39m=\u001b[39m\u001b[39mTrue\u001b[39;00m)\n\u001b[0;32m   6091\u001b[0m \u001b[39mwith\u001b[39;00m np\u001b[39m.\u001b[39merrstate(\u001b[39mall\u001b[39m\u001b[39m=\u001b[39m\u001b[39m\"\u001b[39m\u001b[39mignore\u001b[39m\u001b[39m\"\u001b[39m):\n\u001b[1;32m-> 6092\u001b[0m     res_values \u001b[39m=\u001b[39m ops\u001b[39m.\u001b[39;49mcomparison_op(lvalues, rvalues, op)\n\u001b[0;32m   6094\u001b[0m \u001b[39mreturn\u001b[39;00m \u001b[39mself\u001b[39m\u001b[39m.\u001b[39m_construct_result(res_values, name\u001b[39m=\u001b[39mres_name)\n",
      "File \u001b[1;32mc:\\Python311\\Lib\\site-packages\\pandas\\core\\ops\\array_ops.py:293\u001b[0m, in \u001b[0;36mcomparison_op\u001b[1;34m(left, right, op)\u001b[0m\n\u001b[0;32m    290\u001b[0m     \u001b[39mreturn\u001b[39;00m invalid_comparison(lvalues, rvalues, op)\n\u001b[0;32m    292\u001b[0m \u001b[39melif\u001b[39;00m is_object_dtype(lvalues\u001b[39m.\u001b[39mdtype) \u001b[39mor\u001b[39;00m \u001b[39misinstance\u001b[39m(rvalues, \u001b[39mstr\u001b[39m):\n\u001b[1;32m--> 293\u001b[0m     res_values \u001b[39m=\u001b[39m comp_method_OBJECT_ARRAY(op, lvalues, rvalues)\n\u001b[0;32m    295\u001b[0m \u001b[39melse\u001b[39;00m:\n\u001b[0;32m    296\u001b[0m     res_values \u001b[39m=\u001b[39m _na_arithmetic_op(lvalues, rvalues, op, is_cmp\u001b[39m=\u001b[39m\u001b[39mTrue\u001b[39;00m)\n",
      "File \u001b[1;32mc:\\Python311\\Lib\\site-packages\\pandas\\core\\ops\\array_ops.py:82\u001b[0m, in \u001b[0;36mcomp_method_OBJECT_ARRAY\u001b[1;34m(op, x, y)\u001b[0m\n\u001b[0;32m     80\u001b[0m     result \u001b[39m=\u001b[39m libops\u001b[39m.\u001b[39mvec_compare(x\u001b[39m.\u001b[39mravel(), y\u001b[39m.\u001b[39mravel(), op)\n\u001b[0;32m     81\u001b[0m \u001b[39melse\u001b[39;00m:\n\u001b[1;32m---> 82\u001b[0m     result \u001b[39m=\u001b[39m libops\u001b[39m.\u001b[39;49mscalar_compare(x\u001b[39m.\u001b[39;49mravel(), y, op)\n\u001b[0;32m     83\u001b[0m \u001b[39mreturn\u001b[39;00m result\u001b[39m.\u001b[39mreshape(x\u001b[39m.\u001b[39mshape)\n",
      "File \u001b[1;32mc:\\Python311\\Lib\\site-packages\\pandas\\_libs\\ops.pyx:107\u001b[0m, in \u001b[0;36mpandas._libs.ops.scalar_compare\u001b[1;34m()\u001b[0m\n",
      "\u001b[1;31mTypeError\u001b[0m: '>' not supported between instances of 'datetime.date' and 'float'"
     ]
    }
   ],
   "source": [
    "import pandas as pd\n",
    "import datetime as dt\n",
    "\n",
    "user_signups = pd.DataFrame( [['2021/5/1', 'Marah', 'Nauru'],['2020/8/9', 'Joshua', 'Austria'],['2020/1/4', 'Heidi', 'Guinea'],['2020/10/11', 'Rina', 'Turkmenistan'],['2020/7/11', 'Christine', 'Marshall Islands']], )\n",
    "column_names=['subscription_date','user_name','Country']          \n",
    "user_signups.columns = column_names\n",
    "\n",
    "#convert to date\n",
    "user_signups['subscription_date'] = pd.to_datetime(user_signups['subscription_date']).dt.date\n",
    "\n",
    "#Drop values using filtering\n",
    "user_signups1 = user_signups.loc[user_signups['subscription_date'] > 2021/1/1, 'subscription_date'] = 2021/1/1\n",
    "\n",
    "#Assert is true\n",
    "assert user_signups.subscription_date.max().date() < 2021/1/1\n",
    "\n",
    "print(user_signups)\n",
    "#convert to date\n",
    "#user_signups['subscription_date'] = pd.to_datetime(user_signups['subscription_date'])"
   ]
  },
  {
   "cell_type": "code",
   "execution_count": 51,
   "metadata": {},
   "outputs": [
    {
     "name": "stdout",
     "output_type": "stream",
     "text": [
      "count      5\n",
      "unique     2\n",
      "top       27\n",
      "freq       3\n",
      "Name: tire_sizes, dtype: int64\n"
     ]
    }
   ],
   "source": [
    "import pandas as pd\n",
    "# encoding='unicode_escape' is used to avoid scrutinizing data type thoroughly and not loading data\n",
    "ride_sharing = pd.read_csv('ride_sharing.csv', encoding = 'unicode_escape')\n",
    "\n",
    "# Convert tire_sizes to integer\n",
    "ride_sharing['tire_sizes'] = ride_sharing['tire_sizes'].astype('int')\n",
    "\n",
    "# Set all values above 27 to 27\n",
    "ride_sharing.loc[ride_sharing['tire_sizes'] > 27, 'tire_sizes'] = 27\n",
    "\n",
    "# Reconvert tire_sizes back to categorical\n",
    "ride_sharing['tire_sizes'] = ride_sharing['tire_sizes'].astype('category')\n",
    "\n",
    "# Print tire size description\n",
    "print(ride_sharing['tire_sizes'].describe())"
   ]
  },
  {
   "cell_type": "code",
   "execution_count": 2,
   "metadata": {},
   "outputs": [
    {
     "name": "stdout",
     "output_type": "stream",
     "text": [
      "2020-12-01\n"
     ]
    }
   ],
   "source": [
    "import pandas as pd\n",
    "import datetime as dt\n",
    "# encoding='unicode_escape' is used to avoid scrutinizing data type thoroughly and not loading data\n",
    "ride_sharing = pd.read_csv('ride_sharing.csv', encoding = 'unicode_escape')\n",
    "\n",
    "# Convert ride_date to date\n",
    "ride_sharing['ride_dt'] = pd.to_datetime(ride_sharing['ride_dt']).dt.date\n",
    "\n",
    "# Save today's date\n",
    "today = dt.date.today()\n",
    "\n",
    "# Set all in the future to today's date\n",
    "ride_sharing.loc[ride_sharing['ride_dt'] > today, 'ride_dt'] = today\n",
    "\n",
    "# Print maximum of ride_dt column\n",
    "print(ride_sharing['ride_dt'].max())"
   ]
  },
  {
   "attachments": {},
   "cell_type": "markdown",
   "metadata": {},
   "source": [
    "DUPLICATES"
   ]
  },
  {
   "cell_type": "code",
   "execution_count": 32,
   "metadata": {},
   "outputs": [
    {
     "name": "stdout",
     "output_type": "stream",
     "text": [
      "0      True\n",
      "1      True\n",
      "2      True\n",
      "3      True\n",
      "4      True\n",
      "5      True\n",
      "6      True\n",
      "7      True\n",
      "8     False\n",
      "9      True\n",
      "10    False\n",
      "11    False\n",
      "12    False\n",
      "dtype: bool\n"
     ]
    }
   ],
   "source": [
    "import pandas as pd\n",
    "import numpy as np\n",
    "\n",
    "HtWt = pd.read_csv('HtWt.csv')\n",
    "\n",
    "\n",
    "#define subset with column names to check for duplication\n",
    "column_names = ['last_name','height'] \n",
    "duplicates = HtWt.duplicated(subset = column_names, keep = False) \n",
    "\n",
    "#print the header\n",
    "HtWt.head()\n",
    "#Get duplicates across all columns\n",
    "print(duplicates)\n"
   ]
  },
  {
   "cell_type": "code",
   "execution_count": 37,
   "metadata": {},
   "outputs": [
    {
     "data": {
      "text/html": [
       "<div>\n",
       "<style scoped>\n",
       "    .dataframe tbody tr th:only-of-type {\n",
       "        vertical-align: middle;\n",
       "    }\n",
       "\n",
       "    .dataframe tbody tr th {\n",
       "        vertical-align: top;\n",
       "    }\n",
       "\n",
       "    .dataframe thead th {\n",
       "        text-align: right;\n",
       "    }\n",
       "</style>\n",
       "<table border=\"1\" class=\"dataframe\">\n",
       "  <thead>\n",
       "    <tr style=\"text-align: right;\">\n",
       "      <th></th>\n",
       "      <th>number</th>\n",
       "      <th>first_name</th>\n",
       "      <th>last_name</th>\n",
       "      <th>address</th>\n",
       "      <th>height</th>\n",
       "      <th>weight</th>\n",
       "    </tr>\n",
       "  </thead>\n",
       "  <tbody>\n",
       "    <tr>\n",
       "      <th>0</th>\n",
       "      <td>22</td>\n",
       "      <td>Cole</td>\n",
       "      <td>Palmer</td>\n",
       "      <td>8366 At, Street</td>\n",
       "      <td>178</td>\n",
       "      <td>91</td>\n",
       "    </tr>\n",
       "    <tr>\n",
       "      <th>2</th>\n",
       "      <td>28</td>\n",
       "      <td>Desirae</td>\n",
       "      <td>Shannon</td>\n",
       "      <td>P.O. Box 643, 5251 Consectetuer, Rd.</td>\n",
       "      <td>195</td>\n",
       "      <td>83</td>\n",
       "    </tr>\n",
       "    <tr>\n",
       "      <th>4</th>\n",
       "      <td>1</td>\n",
       "      <td>Ivor</td>\n",
       "      <td>Pierce</td>\n",
       "      <td>102-3364 Non Road</td>\n",
       "      <td>168</td>\n",
       "      <td>66</td>\n",
       "    </tr>\n",
       "    <tr>\n",
       "      <th>5</th>\n",
       "      <td>101</td>\n",
       "      <td>Ivor</td>\n",
       "      <td>Pierce</td>\n",
       "      <td>102-3364 Non Road</td>\n",
       "      <td>168</td>\n",
       "      <td>88</td>\n",
       "    </tr>\n",
       "    <tr>\n",
       "      <th>6</th>\n",
       "      <td>37</td>\n",
       "      <td>Mary</td>\n",
       "      <td>Colon</td>\n",
       "      <td>4674 Ut Rd.</td>\n",
       "      <td>179</td>\n",
       "      <td>75</td>\n",
       "    </tr>\n",
       "  </tbody>\n",
       "</table>\n",
       "</div>"
      ],
      "text/plain": [
       "   number first_name last_name                               address  height   \n",
       "0      22       Cole    Palmer                       8366 At, Street     178  \\\n",
       "2      28    Desirae   Shannon  P.O. Box 643, 5251 Consectetuer, Rd.     195   \n",
       "4       1       Ivor    Pierce                     102-3364 Non Road     168   \n",
       "5     101       Ivor    Pierce                     102-3364 Non Road     168   \n",
       "6      37       Mary     Colon                           4674 Ut Rd.     179   \n",
       "\n",
       "   weight  \n",
       "0      91  \n",
       "2      83  \n",
       "4      66  \n",
       "5      88  \n",
       "6      75  "
      ]
     },
     "execution_count": 37,
     "metadata": {},
     "output_type": "execute_result"
    }
   ],
   "source": [
    "import pandas as pd\n",
    "import numpy as np\n",
    "\n",
    "HtWt = pd.read_csv('HtWt.csv')\n",
    "\n",
    "#drop duplicates\n",
    "HtWt.drop_duplicates(inplace = True)\n",
    "\n",
    "#output duplicate values\n",
    "column_names = ['first_name', 'last_name', 'address']\n",
    "duplicates = HtWt.duplicated(subset = column_names, keep = 'last') \n",
    "HtWt[duplicates].sort_values(by = 'first_name')\n"
   ]
  },
  {
   "cell_type": "code",
   "execution_count": 1,
   "metadata": {},
   "outputs": [],
   "source": [
    "import pandas as pd\n",
    "import numpy as np\n",
    "\n",
    "HtWt = pd.read_csv('HtWt.csv')\n",
    "\n",
    "#group by column names and prodcue statistical summaries\n",
    "column_names = ['first_name', 'last_name', 'address']\n",
    "summaries = {'height': 'max', 'weight' : 'mean'} #this dictionary doesnt work!\n",
    "\n",
    "#make sure aggregation is done\n",
    "duplicates = HtWt.duplicated(subset = column_names, keep = 'last')\n",
    "HtWt[duplicates].sort_values(by = 'first_name')\n",
    "\n",
    "HtWt = HtWt.groupby(by = column_names).agg(summaries).reset_index()\n",
    "\n"
   ]
  },
  {
   "cell_type": "code",
   "execution_count": 46,
   "metadata": {},
   "outputs": [
    {
     "name": "stdout",
     "output_type": "stream",
     "text": [
      "     brand style  rating\n",
      "0  Yum Yum   cup     4.0\n",
      "1  Yum Yum   cup     4.0\n",
      "2  Indomie   cup     3.5\n",
      "3  Indomie  pack    15.0\n",
      "4  Indomie  pack     5.0\n"
     ]
    },
    {
     "data": {
      "text/html": [
       "<div>\n",
       "<style scoped>\n",
       "    .dataframe tbody tr th:only-of-type {\n",
       "        vertical-align: middle;\n",
       "    }\n",
       "\n",
       "    .dataframe tbody tr th {\n",
       "        vertical-align: top;\n",
       "    }\n",
       "\n",
       "    .dataframe thead th {\n",
       "        text-align: right;\n",
       "    }\n",
       "</style>\n",
       "<table border=\"1\" class=\"dataframe\">\n",
       "  <thead>\n",
       "    <tr style=\"text-align: right;\">\n",
       "      <th></th>\n",
       "      <th>brand</th>\n",
       "      <th>style</th>\n",
       "      <th>rating</th>\n",
       "    </tr>\n",
       "  </thead>\n",
       "  <tbody>\n",
       "    <tr>\n",
       "      <th>0</th>\n",
       "      <td>Yum Yum</td>\n",
       "      <td>cup</td>\n",
       "      <td>4.0</td>\n",
       "    </tr>\n",
       "  </tbody>\n",
       "</table>\n",
       "</div>"
      ],
      "text/plain": [
       "     brand style  rating\n",
       "0  Yum Yum   cup     4.0"
      ]
     },
     "execution_count": 46,
     "metadata": {},
     "output_type": "execute_result"
    }
   ],
   "source": [
    "df = pd.DataFrame({\n",
    "     'brand': ['Yum Yum', 'Yum Yum', 'Indomie', 'Indomie', 'Indomie'],\n",
    "     'style': ['cup', 'cup', 'cup', 'pack', 'pack'],\n",
    "    'rating': [4, 4, 3.5, 15, 5]\n",
    " })\n",
    "\n",
    "print(df)\n",
    "column_names = ['brand', 'style', 'rating']\n",
    "duplicates = df.duplicated(subset = column_names, keep = 'last') \n",
    "#call only duplicates WITH THE LAST OCCURENCE\n",
    "df[duplicates].sort_values(by = 'brand')\n"
   ]
  },
  {
   "cell_type": "code",
   "execution_count": 18,
   "metadata": {},
   "outputs": [
    {
     "name": "stdout",
     "output_type": "stream",
     "text": [
      "    ride_id    duration  user_birth_year\n",
      "0      5480  12 minutes             1959\n",
      "1      5193  24 minutes             1965\n",
      "2      3652   8 minutes             1993\n",
      "3      1883   4 minutes             1979\n",
      "4      4626  11 minutes             1994\n",
      "5      2233  10 minutes             1979\n",
      "6      5355   9 minutes             1985\n",
      "7      7471  11 minutes             1997\n",
      "8      7689   9 minutes             1986\n",
      "9      4626  11 minutes             1994\n",
      "10     2233  10 minutes             1979\n",
      "   ride_id    duration  user_birth_year\n",
      "5     2233  10 minutes             1979\n",
      "4     4626  11 minutes             1994\n"
     ]
    }
   ],
   "source": [
    "import pandas as pd\n",
    "import datetime as dt\n",
    "# encoding='unicode_escape' is used to avoid scrutinizing data type thoroughly and not loading data\n",
    "ride_sharing = pd.read_csv('ride_sharing.csv', encoding = 'unicode_escape')\n",
    "print(ride_sharing[['ride_id','duration','user_birth_year']])\n",
    "\n",
    "# Find duplicates\n",
    "duplicates = ride_sharing.duplicated(subset=['ride_id'], keep = 'last') \n",
    "\n",
    "# Sort your duplicated rides\n",
    "duplicated_rides = ride_sharing[duplicates].sort_values(by = 'ride_id')\n",
    "\n",
    "# Print relevant columns of duplicated_rides\n",
    "print(duplicated_rides[['ride_id','duration','user_birth_year']])"
   ]
  },
  {
   "cell_type": "code",
   "execution_count": 20,
   "metadata": {},
   "outputs": [
    {
     "name": "stdout",
     "output_type": "stream",
     "text": [
      "2.266911751455907\n"
     ]
    }
   ],
   "source": [
    "import numpy as np\n",
    "np_2d = np.array([[5,6,1,2,3,4],[4,5,3,2,1,8],[9,10,3,7,6,5]])   \n",
    "print(np.std(np_2d[1,:]))\n"
   ]
  },
  {
   "cell_type": "code",
   "execution_count": 14,
   "metadata": {},
   "outputs": [
    {
     "name": "stdout",
     "output_type": "stream",
     "text": [
      "   ride_id  user_birth_year  duration\n",
      "0     1883             1979       4.0\n",
      "1     2233             1979      10.0\n",
      "2     3652             1993       8.0\n",
      "3     4626             1994      11.0\n",
      "4     5193             1965      24.0\n",
      "5     5355             1985       9.0\n",
      "6     5480             1959      12.0\n",
      "7     7471             1997      11.0\n",
      "8     7689             1986       9.0\n"
     ]
    }
   ],
   "source": [
    "import pandas as pd\n",
    "import numpy as np\n",
    "import datetime as dt\n",
    "# encoding='unicode_escape' is used to avoid scrutinizing data type thoroughly and not loading data\n",
    "ride_sharing = pd.read_csv('ride_sharing.csv', encoding = 'unicode_escape')\n",
    "\n",
    "# Drop complete duplicates from ride_sharing\n",
    "ride_dup = ride_sharing.drop_duplicates()\n",
    "\n",
    "# Create statistics dictionary for aggregation function\n",
    "statistics = {'user_birth_year': 'min', 'duration': 'mean'}\n",
    "\n",
    "# Group by ride_id and compute new statistics\n",
    "ride_unique = ride_dup.groupby('ride_id').agg(statistics).reset_index()\n",
    "\n",
    "# Find duplicated values again\n",
    "duplicates = ride_unique.duplicated(subset = 'ride_id', keep = False)\n",
    "duplicated_rides = ride_unique[duplicates == True]\n",
    "\n",
    "# Assert duplicates are processed\n",
    "assert duplicated_rides.shape[0] == 0\n",
    "\n",
    "print(ride_unique)"
   ]
  },
  {
   "attachments": {},
   "cell_type": "markdown",
   "metadata": {},
   "source": [
    "CATEGORY VARIABLES CODED AS NUMBERS; KEEP THEM LONG FOR EASIER IDENTIFICATION."
   ]
  },
  {
   "attachments": {},
   "cell_type": "markdown",
   "metadata": {},
   "source": [
    "SOLUTIONS: DROPPING DATA, REMAPPING CATEGORIES, INFERRING CATEGORIES"
   ]
  },
  {
   "attachments": {},
   "cell_type": "markdown",
   "metadata": {},
   "source": [
    "INNER JOINTS == SUBSETS OF BOTH A AND B."
   ]
  },
  {
   "cell_type": "code",
   "execution_count": 33,
   "metadata": {},
   "outputs": [
    {
     "name": "stdout",
     "output_type": "stream",
     "text": [
      "set()\n",
      "0    False\n",
      "1    False\n",
      "2    False\n",
      "3    False\n",
      "4    False\n",
      "5    False\n",
      "6    False\n",
      "Name: blood_type, dtype: bool\n"
     ]
    }
   ],
   "source": [
    "import pandas as pd\n",
    "\n",
    "# encoding='unicode_escape' is used to avoid scrutinizing data type thoroughly and not loading data\n",
    "study_data = pd.read_csv('study.csv')\n",
    "##how to define categories?\n",
    "inconsistent_categories = set(study_data['blood_type']).difference(study_data['blood_type'])\n",
    "inconsistent_rows = study_data['blood_type'].isin(inconsistent_categories)\n",
    "#inconsistent_data = study_data[inconsistent_rows]\n",
    "#consistent_data = study_data[~inconsistent_rows]\n",
    "print(inconsistent_categories)\n",
    "print(inconsistent_rows)"
   ]
  },
  {
   "cell_type": "code",
   "execution_count": 1,
   "metadata": {},
   "outputs": [
    {
     "name": "stdout",
     "output_type": "stream",
     "text": [
      "Cleanliness:  ['Clean' 'Average' 'Unacceptable'] \n",
      "\n",
      "Safety:  ['Neutral' 'Very safe' 'Somewhat safe'] \n",
      "\n",
      "Satisfaction:  ['Very satisfied' 'Neutral' 'Somewhat satisfied'] \n",
      "\n"
     ]
    }
   ],
   "source": [
    "#df = airlines, df = categories, find inconsistent values drop using outer inner joint\n",
    "import pandas as pd\n",
    "\n",
    "# encoding='unicode_escape' is used to avoid scrutinizing data type thoroughly and not loading data\n",
    "airlines = pd.read_csv('airlines.csv', encoding = 'unicode_escape')\n",
    "\n",
    "\n",
    "# Print unique values of survey columns in airlines\n",
    "print('Cleanliness: ', airlines['cleanliness'].unique(), \"\\n\")\n",
    "print('Safety: ', airlines['safety'].unique(), \"\\n\")\n",
    "print('Satisfaction: ', airlines['satisfaction'].unique(), \"\\n\")"
   ]
  },
  {
   "cell_type": "code",
   "execution_count": 17,
   "metadata": {},
   "outputs": [
    {
     "name": "stdout",
     "output_type": "stream",
     "text": [
      "    cleanliness     safety        satisfaction    id        day   airline   \n",
      "4  Unacceptable  Very safe  Somewhat satisfied  2992  Wednesday  AMERICAN  \\\n",
      "\n",
      "  destination dest_region dest_size boarding_area   dept_time  wait_min  \n",
      "4       MIAMI     East US       Hub   Gates 50-59  12/31/2018       559  \n"
     ]
    }
   ],
   "source": [
    "import pandas as pd\n",
    "\n",
    "# encoding='unicode_escape' is used to avoid scrutinizing data type thoroughly and not loading data\n",
    "airlines = pd.read_csv('airlines.csv', encoding = 'unicode_escape')\n",
    "categories = pd.read_csv('categories.csv', encoding = 'unicode_escape')\n",
    "\n",
    "# Find the cleanliness category in airlines not in categories\n",
    "cat_clean = set(airlines['cleanliness']).difference(categories['cleanliness'])\n",
    "\n",
    "# Find rows with that category\n",
    "cat_clean_rows = airlines['cleanliness'].isin(cat_clean)\n",
    "\n",
    "# Print rows with inconsistent category\n",
    "print(airlines[cat_clean_rows])\n",
    "\n",
    "\n"
   ]
  },
  {
   "cell_type": "code",
   "execution_count": 16,
   "metadata": {},
   "outputs": [
    {
     "name": "stdout",
     "output_type": "stream",
     "text": [
      "  cleanliness         safety        satisfaction    id       day      airline   \n",
      "0       Clean        Neutral      Very satisfied  1351   Tuesday  UNITED INTL  \\\n",
      "1       Clean      Very safe      Very satisfied   373    Friday       ALASKA   \n",
      "2     Average  Somewhat safe             Neutral  2820  Thursday        DELTA   \n",
      "3       Clean      Very safe  Somewhat satisfied  1157   Tuesday    SOUTHWEST   \n",
      "\n",
      "         destination    dest_region dest_size boarding_area   dept_time   \n",
      "0             KANSAI           Asia       Hub  Gates 91-102  12/31/2018  \\\n",
      "1  SAN JOSE DEL CABO  Canada/Mexico     Small   Gates 50-59  12/31/2018   \n",
      "2        LOS ANGELES        West US       Hub   Gates 40-48  12/31/2018   \n",
      "3        LOS ANGELES        West US       Hub   Gates 20-39  12/31/2018   \n",
      "\n",
      "   wait_min  \n",
      "0       115  \n",
      "1       135  \n",
      "2        70  \n",
      "3       190  \n"
     ]
    }
   ],
   "source": [
    "import pandas as pd\n",
    "\n",
    "# encoding='unicode_escape' is used to avoid scrutinizing data type thoroughly and not loading data\n",
    "airlines = pd.read_csv('airlines.csv', encoding = 'unicode_escape')\n",
    "categories = pd.read_csv('categories.csv', encoding = 'unicode_escape')\n",
    "\n",
    "# Find the cleanliness category in airlines not in categories\n",
    "cat_clean = set(airlines['cleanliness']).difference(categories['cleanliness'])\n",
    "\n",
    "# Find rows with that category\n",
    "cat_clean_rows = airlines['cleanliness'].isin(cat_clean)\n",
    "\n",
    "# Print rows with consistent category\n",
    "print(airlines[~cat_clean_rows])\n"
   ]
  },
  {
   "attachments": {},
   "cell_type": "markdown",
   "metadata": {},
   "source": [
    "Type Errors\n",
    "VALUE INCONSISTENCY - fields, white spaces;\n",
    "COLLAPSING TOO MANY CATEGORIES - creating new groups from running data, mapping to new categories;\n",
    "DATA TYPE - .dtype()"
   ]
  },
  {
   "cell_type": "code",
   "execution_count": 3,
   "metadata": {},
   "outputs": [
    {
     "name": "stdout",
     "output_type": "stream",
     "text": [
      "  marriage_status       race  rating\n",
      "0         MARRIED    Chinese     4.0\n",
      "1         MARRIED      Malay     4.0\n",
      "2        MARRIED      Indian     3.5\n",
      "3       UNMARRIED  Cacausian    15.0\n",
      "4       UNMARRIED       pack     5.0\n"
     ]
    }
   ],
   "source": [
    "import pandas as pd\n",
    "\n",
    "df = pd.DataFrame({\n",
    "     'marriage_status': ['Married', ' married', ' married ', 'UNMARRIED', 'unmarried'],\n",
    "     'race': ['Chinese', 'Malay', 'Indian', 'Cacausian', 'pack'],\n",
    "    'rating': [4, 4, 3.5, 15, 5]\n",
    " })\n",
    "\n",
    "column_names = ['marriage_status', 'race', 'rating']\n",
    "\n",
    "#Capitalize\n",
    "df['marriage_status'] = df['marriage_status'].str.upper()\n",
    "print(df)\n"
   ]
  },
  {
   "cell_type": "code",
   "execution_count": 6,
   "metadata": {},
   "outputs": [
    {
     "name": "stdout",
     "output_type": "stream",
     "text": [
      "  marriage_status       race  rating\n",
      "0         Married    Chinese     4.0\n",
      "1         married      Malay     4.0\n",
      "2         married     Indian     3.5\n",
      "3       UNMARRIED  Cacausian    15.0\n",
      "4       unmarried       pack     5.0\n"
     ]
    }
   ],
   "source": [
    "import pandas as pd\n",
    "\n",
    "# encoding='unicode_escape' is used to avoid scrutinizing data type thoroughly and not loading data\n",
    "df = pd.read_csv('marriage.csv', encoding = 'unicode_escape')\n",
    "\n",
    "#Strip all spaces\n",
    "df['marriage_status'] = df['marriage_status'].str.strip()\n",
    "print(df)\n"
   ]
  },
  {
   "attachments": {},
   "cell_type": "markdown",
   "metadata": {},
   "source": [
    "CREATING AND REMAPPING CATEGORIES\n"
   ]
  },
  {
   "cell_type": "code",
   "execution_count": 14,
   "metadata": {},
   "outputs": [
    {
     "data": {
      "text/html": [
       "<div>\n",
       "<style scoped>\n",
       "    .dataframe tbody tr th:only-of-type {\n",
       "        vertical-align: middle;\n",
       "    }\n",
       "\n",
       "    .dataframe tbody tr th {\n",
       "        vertical-align: top;\n",
       "    }\n",
       "\n",
       "    .dataframe thead th {\n",
       "        text-align: right;\n",
       "    }\n",
       "</style>\n",
       "<table border=\"1\" class=\"dataframe\">\n",
       "  <thead>\n",
       "    <tr style=\"text-align: right;\">\n",
       "      <th></th>\n",
       "      <th>income_group</th>\n",
       "      <th>household_income</th>\n",
       "      <th>race</th>\n",
       "    </tr>\n",
       "  </thead>\n",
       "  <tbody>\n",
       "    <tr>\n",
       "      <th>0</th>\n",
       "      <td>200k-500k</td>\n",
       "      <td>70</td>\n",
       "      <td>Chinese</td>\n",
       "    </tr>\n",
       "    <tr>\n",
       "      <th>1</th>\n",
       "      <td>0-200k</td>\n",
       "      <td>60</td>\n",
       "      <td>Malay</td>\n",
       "    </tr>\n",
       "    <tr>\n",
       "      <th>2</th>\n",
       "      <td>0-200k</td>\n",
       "      <td>50</td>\n",
       "      <td>Indian</td>\n",
       "    </tr>\n",
       "    <tr>\n",
       "      <th>3</th>\n",
       "      <td>500k+</td>\n",
       "      <td>100</td>\n",
       "      <td>Cacausian</td>\n",
       "    </tr>\n",
       "    <tr>\n",
       "      <th>4</th>\n",
       "      <td>500k+</td>\n",
       "      <td>500</td>\n",
       "      <td>pack</td>\n",
       "    </tr>\n",
       "  </tbody>\n",
       "</table>\n",
       "</div>"
      ],
      "text/plain": [
       "  income_group  household_income       race\n",
       "0    200k-500k                70    Chinese\n",
       "1       0-200k                60      Malay\n",
       "2       0-200k                50     Indian\n",
       "3        500k+               100  Cacausian\n",
       "4        500k+               500       pack"
      ]
     },
     "execution_count": 14,
     "metadata": {},
     "output_type": "execute_result"
    }
   ],
   "source": [
    "import pandas as pd\n",
    "\n",
    "# encoding='unicode_escape' is used to avoid scrutinizing data type thoroughly and not loading data\n",
    "df = pd.read_csv('marriage.csv', encoding = 'unicode_escape')\n",
    "\n",
    "#create groups_names\n",
    "group_names = ['0-200k','200k-500k','500k+']\n",
    "#qcut automatically defines base on distr set in q arg (p.s. not correct)\n",
    "df['income_group'] = pd.qcut(df['household_income'], q = 3, labels = group_names)\n",
    "\n",
    "#print income_group column, but not instructed parameters\n",
    "df[['income_group', 'household_income','race']]\n",
    "\n"
   ]
  },
  {
   "cell_type": "code",
   "execution_count": 3,
   "metadata": {},
   "outputs": [
    {
     "name": "stdout",
     "output_type": "stream",
     "text": [
      "  marriage_status       race  rating  household_income income_group\n",
      "0         Married    Chinese     4.0                70       0-200k\n",
      "1         married      Malay     4.0                60       0-200k\n",
      "2        married      Indian     3.5                50       0-200k\n",
      "3       UNMARRIED  Cacausian    15.0               100       0-200k\n",
      "4       unmarried       pack     5.0               500    200k-500k\n"
     ]
    }
   ],
   "source": [
    "import pandas as pd\n",
    "import numpy as np\n",
    "# encoding='unicode_escape' is used to avoid scrutinizing data type thoroughly and not loading data\n",
    "df = pd.read_csv('marriage.csv', encoding = 'unicode_escape')\n",
    "\n",
    "#create groups\n",
    "group_names = ['0-200k','200k-500k','500k+']\n",
    "\n",
    "#define range cut-off point, 0,200,500,infinity\n",
    "ranges = [0,200,500,np.inf]\n",
    "#Using cut() to create ranges and names\n",
    "df['income_group'] = pd.cut(df['household_income'], bins = ranges, labels = group_names)\n",
    "print(df)\n"
   ]
  },
  {
   "cell_type": "code",
   "execution_count": 4,
   "metadata": {},
   "outputs": [
    {
     "data": {
      "text/plain": [
       "[NaN, (0.0, 1.0], NaN, (2.0, 3.0], (4.0, 5.0]]\n",
       "Categories (3, interval[int64, right]): [(0, 1] < (2, 3] < (4, 5]]"
      ]
     },
     "execution_count": 4,
     "metadata": {},
     "output_type": "execute_result"
    }
   ],
   "source": [
    "bins = pd.IntervalIndex.from_tuples([(0, 1), (2, 3), (4, 5)])\n",
    "#if float doesnt fall w/in tuple range, it ret Nan\n",
    "pd.cut([0, 0.5, 1.5, 2.5, 4.5], bins)\n"
   ]
  },
  {
   "cell_type": "code",
   "execution_count": 17,
   "metadata": {},
   "outputs": [
    {
     "name": "stdout",
     "output_type": "stream",
     "text": [
      "  operating_system\n",
      "0        Microsoft\n",
      "1            MacOS\n",
      "2              IOS\n",
      "3          Android\n",
      "4            Linux\n",
      "  operating_system\n",
      "0        DesktopOS\n",
      "1        DesktopOS\n",
      "2         MobileOS\n",
      "3         MobileOS\n",
      "4        DesktopOS\n"
     ]
    }
   ],
   "source": [
    "import pandas as pd\n",
    "\n",
    "devices = pd.DataFrame({\n",
    "     'operating_system': ['Microsoft', 'MacOS', 'IOS', 'Android', 'Linux'],\n",
    "     \n",
    " })\n",
    "\n",
    "print(devices)\n",
    "#Create mapping dict and replace\n",
    "mapping = {'Microsoft':'DesktopOS', 'MacOS':'DesktopOS','Linux': 'DesktopOS','IOS':'MobileOS','Android':'MobileOS'}\n",
    "devices['operating_system'] = devices['operating_system'].replace(mapping)\n",
    "devices['operating_system'].unique\n",
    "\n",
    "print(devices)"
   ]
  },
  {
   "cell_type": "code",
   "execution_count": 2,
   "metadata": {},
   "outputs": [
    {
     "name": "stdout",
     "output_type": "stream",
     "text": [
      "['Asia' 'Canada/Mexico' 'West US' 'East US']\n",
      "['Hub' 'Small']\n"
     ]
    }
   ],
   "source": [
    "import pandas as pd\n",
    "\n",
    "# encoding='unicode_escape' is used to avoid scrutinizing data type thoroughly and not loading data\n",
    "airlines = pd.read_csv('airlines.csv', encoding = 'unicode_escape')\n",
    "\n",
    "# Print unique values of both columns\n",
    "print(airlines['dest_region'].unique())\n",
    "print(airlines['dest_size'].unique())"
   ]
  },
  {
   "cell_type": "code",
   "execution_count": 5,
   "metadata": {},
   "outputs": [
    {
     "name": "stdout",
     "output_type": "stream",
     "text": [
      "    cleanliness         safety        satisfaction    id        day   \n",
      "0         Clean        Neutral      Very satisfied  1351    Tuesday  \\\n",
      "1         Clean      Very safe      Very satisfied   373     Friday   \n",
      "2       Average  Somewhat safe             Neutral  2820   Thursday   \n",
      "3         Clean      Very safe  Somewhat satisfied  1157    Tuesday   \n",
      "4  Unacceptable      Very safe  Somewhat satisfied  2992  Wednesday   \n",
      "\n",
      "       airline        destination    dest_region dest_size boarding_area   \n",
      "0  UNITED INTL             KANSAI           asia       Hub  Gates 91-102  \\\n",
      "1       ALASKA  SAN JOSE DEL CABO  canada/mexico     Small   Gates 50-59   \n",
      "2        DELTA        LOS ANGELES        west us       Hub   Gates 40-48   \n",
      "3    SOUTHWEST        LOS ANGELES        west us       Hub   Gates 20-39   \n",
      "4     AMERICAN              MIAMI        east us       Hub   Gates 50-59   \n",
      "\n",
      "    dept_time  wait_min  \n",
      "0  12/31/2018       115  \n",
      "1  12/31/2018       135  \n",
      "2  12/31/2018        70  \n",
      "3  12/31/2018       190  \n",
      "4  12/31/2018       559  \n"
     ]
    }
   ],
   "source": [
    "import pandas as pd\n",
    "\n",
    "# encoding='unicode_escape' is used to avoid scrutinizing data type thoroughly and not loading data\n",
    "airlines = pd.read_csv('airlines.csv', encoding = 'unicode_escape')\n",
    "\n",
    "# Lower dest_region column and then replace \"eur\" with \"europe\"\n",
    "airlines['dest_region'] = airlines['dest_region'].str.lower()\n",
    "airlines['dest_region'] = airlines['dest_region'].replace({'eur':'europe'})\n",
    "print(airlines)"
   ]
  },
  {
   "cell_type": "code",
   "execution_count": 6,
   "metadata": {},
   "outputs": [
    {
     "name": "stdout",
     "output_type": "stream",
     "text": [
      "['asia' 'canada/mexico' 'west us' 'east us']\n",
      "['Hub' 'Small']\n",
      "0      Hub\n",
      "1    Small\n",
      "2      Hub\n",
      "3      Hub\n",
      "4      Hub\n",
      "Name: dest_size, dtype: object\n",
      "0             asia\n",
      "1    canada/mexico\n",
      "2          west us\n",
      "3          west us\n",
      "4          east us\n",
      "Name: dest_region, dtype: object\n"
     ]
    }
   ],
   "source": [
    "# encoding='unicode_escape' is used to avoid scrutinizing data type thoroughly and not loading data\n",
    "airlines = pd.read_csv('airlines.csv', encoding = 'unicode_escape')\n",
    "\n",
    "# Print unique values of both columns\n",
    "print(airlines['dest_region'].unique())\n",
    "print(airlines['dest_size'].unique())\n",
    "\n",
    "# Lower dest_region column and then replace \"eur\" with \"europe\"\n",
    "airlines['dest_region'] = airlines['dest_region'].str.lower() \n",
    "airlines['dest_region'] = airlines['dest_region'].replace({'eur':'europe'})\n",
    "\n",
    "# Remove white spaces from `dest_size`\n",
    "airlines['dest_size'] = airlines['dest_size'].str.strip()\n",
    "\n",
    "# Verify changes have been effected\n",
    "print(airlines['dest_size'])\n",
    "print(airlines['dest_region'])"
   ]
  },
  {
   "cell_type": "code",
   "execution_count": 20,
   "metadata": {},
   "outputs": [
    {
     "name": "stdout",
     "output_type": "stream",
     "text": [
      "0    medium\n",
      "1    medium\n",
      "2    medium\n",
      "3      long\n",
      "4      long\n",
      "Name: wait_type, dtype: category\n",
      "Categories (3, object): ['short' < 'medium' < 'long']\n"
     ]
    }
   ],
   "source": [
    "import pandas as pd\n",
    "import numpy as np\n",
    "\n",
    "# encoding='unicode_escape' is used to avoid scrutinizing data type thoroughly and not loading data\n",
    "airlines = pd.read_csv('airlines.csv', encoding = 'unicode_escape')\n",
    "\n",
    "# Create ranges for categories\n",
    "label_ranges = [0, 60, 180, np.inf]\n",
    "label_names = ['short', 'medium', 'long']\n",
    "\n",
    "# Create wait_type column using cut()\n",
    "airlines['wait_type'] = pd.cut(airlines['wait_min'], bins = label_ranges, labels = label_names)\n",
    "\n",
    "# Create mappings and replace\n",
    "mappings = {'Monday':'weekday', 'Tuesday':'weekday', 'Wednesday': 'weekday', \n",
    "            'Thursday': 'weekday', 'Friday': 'weekday', \n",
    "            'Saturday': 'weekend', 'Sunday': 'weekend'}\n",
    "\n",
    "airlines['day_week'] = airlines['day'].replace(mappings)\n",
    "print(airlines['wait_type'])\n"
   ]
  },
  {
   "cell_type": "code",
   "execution_count": 16,
   "metadata": {},
   "outputs": [
    {
     "name": "stdout",
     "output_type": "stream",
     "text": [
      "0     Douche\n",
      "1       Tiny\n",
      "2      Steph\n",
      "3      Stone\n",
      "4        Dam\n",
      "Name: full_name, dtype: object\n"
     ]
    }
   ],
   "source": [
    "import pandas as pd\n",
    "import numpy as np\n",
    "\n",
    "# encoding='unicode_escape' is used to avoid scrutinizing data type thoroughly and not loading data\n",
    "airlines = pd.read_csv('airlines.csv', encoding = 'unicode_escape')\n",
    "\n",
    "# Replace \"Dr.\" with empty string \"\"\n",
    "airlines['full_name'] = airlines['full_name'].str.replace(\"Dr.\",\"\")\n",
    "\n",
    "# Replace \"Mr.\" with empty string \"\"\n",
    "airlines['full_name'] = airlines['full_name'].str.replace(\"Mr.\",\"\")\n",
    "\n",
    "\n",
    "# Replace \"Miss\" with empty string \"\"\n",
    "airlines['full_name'] = airlines['full_name'].str.replace(\"Miss\",\"\")\n",
    "\n",
    "\n",
    "# Replace \"Ms.\" with empty string \"\"\n",
    "airlines['full_name'] = airlines['full_name'].str.replace(\"Ms.\",\"\")\n",
    "\n",
    "\n",
    "# Assert that full_name has no honorifics\n",
    "assert airlines['full_name'].str.contains('Ms.|Mr.|Miss|Dr.').any() == False\n",
    "\n",
    "print(airlines['full_name'])"
   ]
  },
  {
   "cell_type": "code",
   "execution_count": 6,
   "metadata": {},
   "outputs": [
    {
     "name": "stdout",
     "output_type": "stream",
     "text": [
      "0    The airport personnell forgot to alert us of d...\n",
      "1    The food in the airport was really really expe...\n",
      "2    One of the other travelers was really loud and...\n",
      "3    I don't remember answering the survey with the...\n",
      "4    The airport personnel kept ignoring my request...\n",
      "Name: survey_response, dtype: object\n"
     ]
    }
   ],
   "source": [
    "import pandas as pd\n",
    "import numpy as np\n",
    "\n",
    "# encoding='unicode_escape' is used to avoid scrutinizing data type thoroughly and not loading data\n",
    "airlines = pd.read_csv('airlines.csv', encoding = 'unicode_escape')\n",
    "\n",
    "# Store length of each row in survey_response column\n",
    "resp_length = airlines['survey_response'].str.len()\n",
    "\n",
    "# Find rows in airlines where resp_length > 40\n",
    "airlines_survey = airlines[resp_length > 40]\n",
    "\n",
    "# Assert minimum survey_response length is > 40\n",
    "assert airlines_survey['survey_response'].str.len().min() > 40\n",
    "\n",
    "# Print new survey_response column\n",
    "print(airlines_survey['survey_response'])"
   ]
  },
  {
   "attachments": {},
   "cell_type": "markdown",
   "metadata": {},
   "source": [
    "UNIFORMITY\n"
   ]
  },
  {
   "cell_type": "code",
   "execution_count": 2,
   "metadata": {},
   "outputs": [
    {
     "data": {
      "image/png": "[encoded data removed]",
      "text/plain": [
       "<Figure size 640x480 with 1 Axes>"
      ]
     },
     "metadata": {},
     "output_type": "display_data"
    }
   ],
   "source": [
    "import matplotlib.pyplot as plt\n",
    "import pandas as pd\n",
    "\n",
    "# encoding='unicode_escape' is used to avoid scrutinizing data type thoroughly and not loading data\n",
    "temperatures = pd.read_csv('temperature.csv', encoding = 'unicode_escape')\n",
    "\n",
    "#create scatter plot\n",
    "plt.scatter(x = 'Date', y = 'Temperature', data = temperatures)\n",
    "\n",
    "#create title, xlabel and ylabel\n",
    "plt.title('Temperature in Celsius March 2019 - NYC')\n",
    "plt.xlabel('Dates')\n",
    "plt.ylabel('Temperature in Celsius')\n",
    "\n",
    "#show plot\n",
    "plt.show()\n",
    "\n"
   ]
  },
  {
   "attachments": {},
   "cell_type": "markdown",
   "metadata": {},
   "source": [
    "Treating temperature data: C = (F-32) x 5/9"
   ]
  },
  {
   "cell_type": "code",
   "execution_count": 2,
   "metadata": {},
   "outputs": [
    {
     "ename": "AssertionError",
     "evalue": "",
     "output_type": "error",
     "traceback": [
      "\u001b[1;31m---------------------------------------------------------------------------\u001b[0m",
      "\u001b[1;31mAssertionError\u001b[0m                            Traceback (most recent call last)",
      "Cell \u001b[1;32mIn[2], line 10\u001b[0m\n\u001b[0;32m      8\u001b[0m temperatures\u001b[39m.\u001b[39mloc[temperatures[\u001b[39m'\u001b[39m\u001b[39mTemperature\u001b[39m\u001b[39m'\u001b[39m] \u001b[39m>\u001b[39m \u001b[39m40\u001b[39m, \u001b[39m'\u001b[39m\u001b[39mTemperatures\u001b[39m\u001b[39m'\u001b[39m] \u001b[39m=\u001b[39m temp_cels\n\u001b[0;32m      9\u001b[0m \u001b[39m#assert conversion is correct: result should get AssertionError\u001b[39;00m\n\u001b[1;32m---> 10\u001b[0m \u001b[39massert\u001b[39;00m temperatures[\u001b[39m'\u001b[39m\u001b[39mTemperature\u001b[39m\u001b[39m'\u001b[39m]\u001b[39m.\u001b[39mmax() \u001b[39m<\u001b[39m \u001b[39m40\u001b[39m\n",
      "\u001b[1;31mAssertionError\u001b[0m: "
     ]
    }
   ],
   "source": [
    "import pandas as pd\n",
    "\n",
    "# encoding='unicode_escape' is used to avoid scrutinizing data type thoroughly and not loading data\n",
    "temperatures = pd.read_csv('temperature.csv', encoding = 'unicode_escape') \n",
    "#treating temp data\n",
    "temp_fah = temperatures.loc[temperatures['Temperature']>40, 'Temperature']\n",
    "temp_cels = (temp_fah -32) * (5/9)\n",
    "temperatures.loc[temperatures['Temperature'] > 40, 'Temperatures'] = temp_cels\n",
    "#assert conversion is correct: result should get AssertionError\n",
    "assert temperatures['Temperature'].max() < 40\n"
   ]
  },
  {
   "cell_type": "code",
   "execution_count": 3,
   "metadata": {},
   "outputs": [
    {
     "name": "stdout",
     "output_type": "stream",
     "text": [
      "    Birthday First name Last name\n",
      "0        NaT      Rowan     Nunex\n",
      "1 2019-03-29      Brynn      Yang\n",
      "2 2019-03-03     Sophia    Reilly\n",
      "3 2019-03-24     Deacon    Prince\n",
      "4 2019-06-03   Griffith      Neal\n"
     ]
    },
    {
     "name": "stderr",
     "output_type": "stream",
     "text": [
      "C:\\Users\\bookk\\AppData\\Local\\Temp\\ipykernel_19540\\518447077.py:7: UserWarning: The argument 'infer_datetime_format' is deprecated and will be removed in a future version. A strict version of it is now the default, see https://pandas.pydata.org/pdeps/0004-consistent-to-datetime-parsing.html. You can safely remove this argument.\n",
      "  birthdays['Birthday'] = pd.to_datetime(\n",
      "C:\\Users\\bookk\\AppData\\Local\\Temp\\ipykernel_19540\\518447077.py:7: UserWarning: Could not infer format, so each element will be parsed individually, falling back to `dateutil`. To ensure parsing is consistent and as-expected, please specify a format.\n",
      "  birthdays['Birthday'] = pd.to_datetime(\n"
     ]
    }
   ],
   "source": [
    "import pandas as pd\n",
    "\n",
    "# encoding='unicode_escape' is used to avoid scrutinizing data type thoroughly and not loading data\n",
    "birthdays = pd.read_csv('birthdays.csv', encoding = 'unicode_escape')\n",
    "\n",
    "#converts to datetime - but won't work!\n",
    "birthdays['Birthday'] = pd.to_datetime(\n",
    "    birthdays['Birthday'],\n",
    "    #attempt to infer format of each date\n",
    "    infer_datetime_format=True,\n",
    "    #return NA for rows where conversion faiiled\n",
    "    errors = 'coerce'\n",
    "    )\n",
    "print(birthdays)"
   ]
  },
  {
   "cell_type": "code",
   "execution_count": 4,
   "metadata": {},
   "outputs": [
    {
     "ename": "KeyError",
     "evalue": "'acct_cur'",
     "output_type": "error",
     "traceback": [
      "\u001b[1;31m---------------------------------------------------------------------------\u001b[0m",
      "\u001b[1;31mKeyError\u001b[0m                                  Traceback (most recent call last)",
      "File \u001b[1;32mc:\\Python311\\Lib\\site-packages\\pandas\\core\\indexes\\base.py:3652\u001b[0m, in \u001b[0;36mIndex.get_loc\u001b[1;34m(self, key)\u001b[0m\n\u001b[0;32m   3651\u001b[0m \u001b[39mtry\u001b[39;00m:\n\u001b[1;32m-> 3652\u001b[0m     \u001b[39mreturn\u001b[39;00m \u001b[39mself\u001b[39;49m\u001b[39m.\u001b[39;49m_engine\u001b[39m.\u001b[39;49mget_loc(casted_key)\n\u001b[0;32m   3653\u001b[0m \u001b[39mexcept\u001b[39;00m \u001b[39mKeyError\u001b[39;00m \u001b[39mas\u001b[39;00m err:\n",
      "File \u001b[1;32mc:\\Python311\\Lib\\site-packages\\pandas\\_libs\\index.pyx:147\u001b[0m, in \u001b[0;36mpandas._libs.index.IndexEngine.get_loc\u001b[1;34m()\u001b[0m\n",
      "File \u001b[1;32mc:\\Python311\\Lib\\site-packages\\pandas\\_libs\\index.pyx:176\u001b[0m, in \u001b[0;36mpandas._libs.index.IndexEngine.get_loc\u001b[1;34m()\u001b[0m\n",
      "File \u001b[1;32mpandas\\_libs\\hashtable_class_helper.pxi:7080\u001b[0m, in \u001b[0;36mpandas._libs.hashtable.PyObjectHashTable.get_item\u001b[1;34m()\u001b[0m\n",
      "File \u001b[1;32mpandas\\_libs\\hashtable_class_helper.pxi:7088\u001b[0m, in \u001b[0;36mpandas._libs.hashtable.PyObjectHashTable.get_item\u001b[1;34m()\u001b[0m\n",
      "\u001b[1;31mKeyError\u001b[0m: 'acct_cur'",
      "\nThe above exception was the direct cause of the following exception:\n",
      "\u001b[1;31mKeyError\u001b[0m                                  Traceback (most recent call last)",
      "Cell \u001b[1;32mIn[4], line 5\u001b[0m\n\u001b[0;32m      3\u001b[0m banking \u001b[39m=\u001b[39m pd\u001b[39m.\u001b[39mread_csv(\u001b[39m'\u001b[39m\u001b[39mbanking.csv\u001b[39m\u001b[39m'\u001b[39m, encoding \u001b[39m=\u001b[39m \u001b[39m'\u001b[39m\u001b[39municode_escape\u001b[39m\u001b[39m'\u001b[39m)\n\u001b[0;32m      4\u001b[0m \u001b[39m# Find values of acct_cur that are equal to 'euro'\u001b[39;00m\n\u001b[1;32m----> 5\u001b[0m acct_eu \u001b[39m=\u001b[39m banking[\u001b[39m'\u001b[39;49m\u001b[39macct_cur\u001b[39;49m\u001b[39m'\u001b[39;49m] \u001b[39m==\u001b[39m \u001b[39m'\u001b[39m\u001b[39meuro\u001b[39m\u001b[39m'\u001b[39m\n\u001b[0;32m      7\u001b[0m \u001b[39m# Convert acct_amount where it is in euro to dollars\u001b[39;00m\n\u001b[0;32m      8\u001b[0m banking\u001b[39m.\u001b[39mloc[acct_eu, \u001b[39m'\u001b[39m\u001b[39meuro\u001b[39m\u001b[39m'\u001b[39m] \u001b[39m=\u001b[39m banking\u001b[39m.\u001b[39mloc[acct_eu, \u001b[39m'\u001b[39m\u001b[39meuro\u001b[39m\u001b[39m'\u001b[39m] \u001b[39m*\u001b[39m \u001b[39m1.1\u001b[39m\n",
      "File \u001b[1;32mc:\\Python311\\Lib\\site-packages\\pandas\\core\\frame.py:3761\u001b[0m, in \u001b[0;36mDataFrame.__getitem__\u001b[1;34m(self, key)\u001b[0m\n\u001b[0;32m   3759\u001b[0m \u001b[39mif\u001b[39;00m \u001b[39mself\u001b[39m\u001b[39m.\u001b[39mcolumns\u001b[39m.\u001b[39mnlevels \u001b[39m>\u001b[39m \u001b[39m1\u001b[39m:\n\u001b[0;32m   3760\u001b[0m     \u001b[39mreturn\u001b[39;00m \u001b[39mself\u001b[39m\u001b[39m.\u001b[39m_getitem_multilevel(key)\n\u001b[1;32m-> 3761\u001b[0m indexer \u001b[39m=\u001b[39m \u001b[39mself\u001b[39;49m\u001b[39m.\u001b[39;49mcolumns\u001b[39m.\u001b[39;49mget_loc(key)\n\u001b[0;32m   3762\u001b[0m \u001b[39mif\u001b[39;00m is_integer(indexer):\n\u001b[0;32m   3763\u001b[0m     indexer \u001b[39m=\u001b[39m [indexer]\n",
      "File \u001b[1;32mc:\\Python311\\Lib\\site-packages\\pandas\\core\\indexes\\base.py:3654\u001b[0m, in \u001b[0;36mIndex.get_loc\u001b[1;34m(self, key)\u001b[0m\n\u001b[0;32m   3652\u001b[0m     \u001b[39mreturn\u001b[39;00m \u001b[39mself\u001b[39m\u001b[39m.\u001b[39m_engine\u001b[39m.\u001b[39mget_loc(casted_key)\n\u001b[0;32m   3653\u001b[0m \u001b[39mexcept\u001b[39;00m \u001b[39mKeyError\u001b[39;00m \u001b[39mas\u001b[39;00m err:\n\u001b[1;32m-> 3654\u001b[0m     \u001b[39mraise\u001b[39;00m \u001b[39mKeyError\u001b[39;00m(key) \u001b[39mfrom\u001b[39;00m \u001b[39merr\u001b[39;00m\n\u001b[0;32m   3655\u001b[0m \u001b[39mexcept\u001b[39;00m \u001b[39mTypeError\u001b[39;00m:\n\u001b[0;32m   3656\u001b[0m     \u001b[39m# If we have a listlike key, _check_indexing_error will raise\u001b[39;00m\n\u001b[0;32m   3657\u001b[0m     \u001b[39m#  InvalidIndexError. Otherwise we fall through and re-raise\u001b[39;00m\n\u001b[0;32m   3658\u001b[0m     \u001b[39m#  the TypeError.\u001b[39;00m\n\u001b[0;32m   3659\u001b[0m     \u001b[39mself\u001b[39m\u001b[39m.\u001b[39m_check_indexing_error(key)\n",
      "\u001b[1;31mKeyError\u001b[0m: 'acct_cur'"
     ]
    }
   ],
   "source": [
    "import pandas as pd\n",
    "\n",
    "banking = pd.read_csv('banking.csv', encoding = 'unicode_escape')\n",
    "# Find values of acct_cur that are equal to 'euro'\n",
    "acct_eu = banking['acct_cur'] == 'euro'\n",
    "\n",
    "# Convert acct_amount where it is in euro to dollars\n",
    "banking.loc[acct_eu, 'euro'] = banking.loc[acct_eu, 'euro'] * 1.1\n",
    "\n",
    "# Unify acct_cur column by changing 'euro' values to 'dollar'\n",
    "banking.loc[acct_eu, 'euro'] = 'dollar'\n",
    "\n",
    "# Assert that only dollar currency remains\n",
    "assert banking['acct_cur'].unique() == 'dollar'"
   ]
  },
  {
   "cell_type": "code",
   "execution_count": null,
   "metadata": {},
   "outputs": [],
   "source": []
  }
 ],
 "metadata": {
  "kernelspec": {
   "display_name": "Python 3",
   "language": "python",
   "name": "python3"
  },
  "language_info": {
   "codemirror_mode": {
    "name": "ipython",
    "version": 3
   },
   "file_extension": ".py",
   "mimetype": "text/x-python",
   "name": "python",
   "nbconvert_exporter": "python",
   "pygments_lexer": "ipython3",
   "version": "3.11.0"
  },
  "orig_nbformat": 4
 },
 "nbformat": 4,
 "nbformat_minor": 2
}
