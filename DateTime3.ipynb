{
 "cells": [
  {
   "cell_type": "code",
   "execution_count": 5,
   "metadata": {},
   "outputs": [
    {
     "name": "stdout",
     "output_type": "stream",
     "text": [
      "[*********************100%***********************]  4 of 4 completed"
     ]
    },
    {
     "name": "stderr",
     "output_type": "stream",
     "text": [
      "\n",
      "1 Failed download:\n",
      "['ABX']: Exception('%ticker%: No price data found, symbol may be delisted (1d 2017-01-01 00:00:00 -> 2023-08-06 19:09:27.496790)')\n"
     ]
    },
    {
     "name": "stdout",
     "output_type": "stream",
     "text": [
      "\n",
      "            ABX       CL=F  COMP        ^GSPC\n",
      "Date                                         \n",
      "2017-01-03  NaN  52.330002   NaN  2257.830078\n",
      "2017-01-04  NaN  53.259998   NaN  2270.750000\n",
      "2017-01-05  NaN  53.759998   NaN  2269.000000\n",
      "2017-01-06  NaN  53.990002   NaN  2276.979980\n",
      "2017-01-09  NaN  51.959999   NaN  2268.899902\n",
      "...         ...        ...   ...          ...\n",
      "2023-07-31  NaN  81.800003  4.19  4588.959961\n",
      "2023-08-01  NaN  81.370003  4.14  4576.729980\n",
      "2023-08-02  NaN  79.489998  4.14  4513.390137\n",
      "2023-08-03  NaN  81.550003  4.35  4501.890137\n",
      "2023-08-04  NaN  82.639999  4.06  4478.029785\n",
      "\n",
      "[1658 rows x 4 columns]\n"
     ]
    }
   ],
   "source": [
    "import pandas as pd\n",
    "import pandas_datareader.data as pdr\n",
    "import yfinance as yf\n",
    "from numpy.random import normal, seed\n",
    "from scipy.stats import norm\n",
    "import seaborn as sns\n",
    "import matplotlib.pyplot as plt\n",
    "\n",
    "#solve string problem\n",
    "yf.pdr_override()\n",
    "#starting setup \n",
    "tickers = ['^GSPC','COMP','ABX','CL=F'] #S&P500(^GSPC) Nasdaq(COMP) gold(ABX) oil(CL=F) symbol\n",
    "from datetime import datetime\n",
    "startdate = datetime(2017,1,1)\n",
    "enddate = datetime.now()\n",
    "data= pdr.get_data_yahoo(tickers,start=startdate, end=enddate) \n",
    "print(data['Close'])\n"
   ]
  },
  {
   "cell_type": "code",
   "execution_count": null,
   "metadata": {},
   "outputs": [],
   "source": []
  }
 ],
 "metadata": {
  "kernelspec": {
   "display_name": "Python 3",
   "language": "python",
   "name": "python3"
  },
  "language_info": {
   "codemirror_mode": {
    "name": "ipython",
    "version": 3
   },
   "file_extension": ".py",
   "mimetype": "text/x-python",
   "name": "python",
   "nbconvert_exporter": "python",
   "pygments_lexer": "ipython3",
   "version": "3.11.3"
  },
  "orig_nbformat": 4
 },
 "nbformat": 4,
 "nbformat_minor": 2
}
