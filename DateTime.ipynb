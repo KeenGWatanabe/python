{
 "cells": [
  {
   "cell_type": "code",
   "execution_count": 9,
   "metadata": {},
   "outputs": [
    {
     "name": "stdout",
     "output_type": "stream",
     "text": [
      "2017-01-01 00:00:00\n",
      "2017\n",
      "Sunday\n"
     ]
    }
   ],
   "source": [
    "import pandas as pd\n",
    "from datetime import datetime\n",
    "\n",
    "#To manually create dates\n",
    "time_stamp = pd.Timestamp(datetime(2017,1,1))\n",
    "pd.Timestamp('2017-01-01') == time_stamp\n",
    "print(time_stamp)\n",
    "print(time_stamp.year)\n",
    "print(time_stamp.day_name())\n"
   ]
  },
  {
   "attachments": {},
   "cell_type": "markdown",
   "metadata": {},
   "source": [
    "Period object has freq attribute to store freq info"
   ]
  },
  {
   "cell_type": "code",
   "execution_count": 23,
   "metadata": {},
   "outputs": [
    {
     "name": "stdout",
     "output_type": "stream",
     "text": [
      "31 days\n",
      "1 mth\n"
     ]
    }
   ],
   "source": [
    "import pandas as pd\n",
    "from datetime import datetime\n",
    "\n",
    "period = pd.Period('2017-01')\n",
    "print(period.day,\"days\")\n",
    "print(period.month,\"mth\")"
   ]
  },
  {
   "attachments": {},
   "cell_type": "markdown",
   "metadata": {},
   "source": [
    "date arithmetic"
   ]
  },
  {
   "cell_type": "code",
   "execution_count": 1,
   "metadata": {},
   "outputs": [
    {
     "name": "stdout",
     "output_type": "stream",
     "text": [
      "2017-03\n"
     ]
    }
   ],
   "source": [
    "import pandas as pd\n",
    "from datetime import datetime\n",
    "\n",
    "period = pd.Period('2017-01')\n",
    "print(period + 2)"
   ]
  },
  {
   "cell_type": "code",
   "execution_count": 24,
   "metadata": {},
   "outputs": [
    {
     "data": {
      "text/plain": [
       "Period('2017-01-31', 'D')"
      ]
     },
     "execution_count": 24,
     "metadata": {},
     "output_type": "execute_result"
    }
   ],
   "source": [
    "import pandas as pd\n",
    "from datetime import datetime\n",
    "\n",
    "period = pd.Period('2017-01')\n",
    "period.asfreq('D')"
   ]
  },
  {
   "attachments": {},
   "cell_type": "markdown",
   "metadata": {},
   "source": [
    "Freq info enables date arithmetic"
   ]
  },
  {
   "cell_type": "code",
   "execution_count": 36,
   "metadata": {},
   "outputs": [
    {
     "name": "stderr",
     "output_type": "stream",
     "text": [
      "C:\\Users\\bookk\\AppData\\Local\\Temp\\ipykernel_18960\\3979816053.py:4: FutureWarning: The 'freq' argument in Timestamp is deprecated and will be removed in a future version.\n",
      "  pd.Timestamp('2017-01-31', 'M') + 1\n"
     ]
    },
    {
     "ename": "TypeError",
     "evalue": "Addition/subtraction of integers and integer-arrays with Timestamp is no longer supported.  Instead of adding/subtracting `n`, use `n * obj.freq`",
     "output_type": "error",
     "traceback": [
      "\u001b[1;31m---------------------------------------------------------------------------\u001b[0m",
      "\u001b[1;31mTypeError\u001b[0m                                 Traceback (most recent call last)",
      "Cell \u001b[1;32mIn[36], line 4\u001b[0m\n\u001b[0;32m      1\u001b[0m \u001b[39mimport\u001b[39;00m \u001b[39mpandas\u001b[39;00m \u001b[39mas\u001b[39;00m \u001b[39mpd\u001b[39;00m\n\u001b[0;32m      2\u001b[0m \u001b[39mfrom\u001b[39;00m \u001b[39mdatetime\u001b[39;00m \u001b[39mimport\u001b[39;00m datetime\n\u001b[1;32m----> 4\u001b[0m pd\u001b[39m.\u001b[39;49mTimestamp(\u001b[39m'\u001b[39;49m\u001b[39m2017-01-31\u001b[39;49m\u001b[39m'\u001b[39;49m, \u001b[39m'\u001b[39;49m\u001b[39mM\u001b[39;49m\u001b[39m'\u001b[39;49m) \u001b[39m+\u001b[39;49m \u001b[39m1\u001b[39;49m\n",
      "File \u001b[1;32mc:\\Python311\\Lib\\site-packages\\pandas\\_libs\\tslibs\\timestamps.pyx:499\u001b[0m, in \u001b[0;36mpandas._libs.tslibs.timestamps._Timestamp.__add__\u001b[1;34m()\u001b[0m\n",
      "\u001b[1;31mTypeError\u001b[0m: Addition/subtraction of integers and integer-arrays with Timestamp is no longer supported.  Instead of adding/subtracting `n`, use `n * obj.freq`"
     ]
    }
   ],
   "source": [
    "import pandas as pd\n",
    "from datetime import datetime\n",
    "\n",
    "#no longer supported code recommended on DataCamp\n",
    "pd.Timestamp('2017-01-31', 'M') + 1\n"
   ]
  },
  {
   "cell_type": "code",
   "execution_count": 37,
   "metadata": {},
   "outputs": [
    {
     "data": {
      "text/plain": [
       "Period('2017-02', 'M')"
      ]
     },
     "execution_count": 37,
     "metadata": {},
     "output_type": "execute_result"
    }
   ],
   "source": [
    "import pandas as pd\n",
    "from datetime import datetime\n",
    "\n",
    "#replace with workable code \n",
    "pd.Period('2017-01-31', 'M') + 1\n"
   ]
  },
  {
   "cell_type": "code",
   "execution_count": 35,
   "metadata": {},
   "outputs": [
    {
     "data": {
      "text/plain": [
       "DatetimeIndex(['2017-01-31', '2017-02-28', '2017-03-31', '2017-04-30',\n",
       "               '2017-05-31', '2017-06-30', '2017-07-31', '2017-08-31',\n",
       "               '2017-09-30', '2017-10-31', '2017-11-30', '2017-12-31'],\n",
       "              dtype='datetime64[ns]', freq='M')"
      ]
     },
     "execution_count": 35,
     "metadata": {},
     "output_type": "execute_result"
    }
   ],
   "source": [
    "import pandas as pd\n",
    "from datetime import datetime\n",
    "\n",
    "#time series\n",
    "index = pd.date_range(start='2017-01-01', periods=12, freq='M')\n",
    "index"
   ]
  },
  {
   "cell_type": "code",
   "execution_count": 45,
   "metadata": {},
   "outputs": [
    {
     "data": {
      "text/plain": [
       "DatetimeIndex(['2017-01-31', '2017-02-28', '2017-03-31'], dtype='datetime64[ns]', freq='M')"
      ]
     },
     "execution_count": 45,
     "metadata": {},
     "output_type": "execute_result"
    }
   ],
   "source": [
    "import pandas as pd1\n",
    "from datetime import datetime\n",
    "\n",
    "#time series\n",
    "index = pd.date_range(start='2017-01-01', periods=12, freq='M')\n",
    "#time series can be indexed\n",
    "index[0:3]\n"
   ]
  },
  {
   "cell_type": "code",
   "execution_count": 1,
   "metadata": {},
   "outputs": [
    {
     "data": {
      "text/plain": [
       "PeriodIndex(['2017-01', '2017-02', '2017-03', '2017-04', '2017-05', '2017-06',\n",
       "             '2017-07', '2017-08', '2017-09', '2017-10', '2017-11', '2017-12'],\n",
       "            dtype='period[M]')"
      ]
     },
     "execution_count": 1,
     "metadata": {},
     "output_type": "execute_result"
    }
   ],
   "source": [
    "import pandas as pd\n",
    "from datetime import datetime\n",
    "\n",
    "#time series\n",
    "index = pd.date_range(start='2017-01-01', periods=12, freq='M')\n",
    "#time series can be indexed to period\n",
    "index.to_period()"
   ]
  },
  {
   "attachments": {},
   "cell_type": "markdown",
   "metadata": {},
   "source": [
    "ns means nanoseconds"
   ]
  },
  {
   "cell_type": "code",
   "execution_count": 2,
   "metadata": {},
   "outputs": [
    {
     "name": "stdout",
     "output_type": "stream",
     "text": [
      "<class 'pandas.core.frame.DataFrame'>\n",
      "RangeIndex: 12 entries, 0 to 11\n",
      "Data columns (total 1 columns):\n",
      " #   Column  Non-Null Count  Dtype         \n",
      "---  ------  --------------  -----         \n",
      " 0   date    12 non-null     datetime64[ns]\n",
      "dtypes: datetime64[ns](1)\n",
      "memory usage: 224.0 bytes\n"
     ]
    }
   ],
   "source": [
    "pd.DataFrame({'date': index}).info()"
   ]
  },
  {
   "cell_type": "markdown",
   "metadata": {},
   "source": [
    "create 12 rows, 2 columns timestamp series"
   ]
  },
  {
   "cell_type": "code",
   "execution_count": 9,
   "metadata": {},
   "outputs": [
    {
     "name": "stdout",
     "output_type": "stream",
     "text": [
      "<class 'pandas.core.frame.DataFrame'>\n",
      "DatetimeIndex: 12 entries, 2017-01-31 to 2017-12-31\n",
      "Freq: M\n",
      "Data columns (total 2 columns):\n",
      " #   Column  Non-Null Count  Dtype  \n",
      "---  ------  --------------  -----  \n",
      " 0   0       12 non-null     float64\n",
      " 1   1       12 non-null     float64\n",
      "dtypes: float64(2)\n",
      "memory usage: 288.0 bytes\n"
     ]
    }
   ],
   "source": [
    "import pandas as pd\n",
    "import numpy as np\n",
    "from datetime import datetime\n",
    "\n",
    "data = np.random.random((12,2))\n",
    "pd.DataFrame(data = data, index=index).info()"
   ]
  },
  {
   "cell_type": "code",
   "execution_count": 21,
   "metadata": {},
   "outputs": [
    {
     "name": "stdout",
     "output_type": "stream",
     "text": [
      "6 Sunday\n",
      "0 Monday\n",
      "1 Tuesday\n",
      "2 Wednesday\n",
      "3 Thursday\n",
      "4 Friday\n",
      "5 Saturday\n"
     ]
    }
   ],
   "source": [
    "import pandas as pd\n",
    "import numpy as np\n",
    "from datetime import datetime\n",
    "\n",
    "# Create the range of dates here\n",
    "seven_days = pd.date_range(start='2017-01-01', periods=7, freq='D')\n",
    "\n",
    "# Iterate over the dates and print the number and name of the weekday\n",
    "for day in seven_days:\n",
    "    print(day.dayofweek, day.day_name())"
   ]
  },
  {
   "attachments": {},
   "cell_type": "markdown",
   "metadata": {},
   "source": [
    "DateTimeIndex: Upsampling=> incr freq, downsampling=> decr freq"
   ]
  },
  {
   "cell_type": "code",
   "execution_count": 2,
   "metadata": {},
   "outputs": [
    {
     "name": "stdout",
     "output_type": "stream",
     "text": [
      "[*********************100%***********************]  1 of 1 completed\n",
      "<class 'pandas.core.frame.DataFrame'>\n",
      "DatetimeIndex: 2133 entries, 2015-01-02 to 2023-06-23\n",
      "Data columns (total 6 columns):\n",
      " #   Column     Non-Null Count  Dtype  \n",
      "---  ------     --------------  -----  \n",
      " 0   Open       2133 non-null   float64\n",
      " 1   High       2133 non-null   float64\n",
      " 2   Low        2133 non-null   float64\n",
      " 3   Close      2133 non-null   float64\n",
      " 4   Adj Close  2133 non-null   float64\n",
      " 5   Volume     2133 non-null   int64  \n",
      "dtypes: float64(5), int64(1)\n",
      "memory usage: 116.6 KB\n"
     ]
    },
    {
     "ename": "KeyError",
     "evalue": "\"None of ['date'] are in the columns\"",
     "output_type": "error",
     "traceback": [
      "\u001b[1;31m---------------------------------------------------------------------------\u001b[0m",
      "\u001b[1;31mKeyError\u001b[0m                                  Traceback (most recent call last)",
      "\u001b[1;32m~\\AppData\\Local\\Temp\\ipykernel_3032\\2262600264.py\u001b[0m in \u001b[0;36m?\u001b[1;34m()\u001b[0m\n\u001b[0;32m     13\u001b[0m \u001b[1;33m\u001b[0m\u001b[0m\n\u001b[0;32m     14\u001b[0m \u001b[0mgoogle\u001b[0m\u001b[1;33m.\u001b[0m\u001b[0minfo\u001b[0m\u001b[1;33m(\u001b[0m\u001b[1;33m)\u001b[0m\u001b[1;33m\u001b[0m\u001b[1;33m\u001b[0m\u001b[0m\n\u001b[0;32m     15\u001b[0m \u001b[1;33m\u001b[0m\u001b[0m\n\u001b[0;32m     16\u001b[0m \u001b[1;31m#don't create copy\u001b[0m\u001b[1;33m\u001b[0m\u001b[1;33m\u001b[0m\u001b[0m\n\u001b[1;32m---> 17\u001b[1;33m \u001b[0mgoogle\u001b[0m\u001b[1;33m.\u001b[0m\u001b[0mset_index\u001b[0m\u001b[1;33m(\u001b[0m\u001b[1;34m'date'\u001b[0m\u001b[1;33m,\u001b[0m \u001b[0minplace\u001b[0m\u001b[1;33m=\u001b[0m\u001b[1;32mTrue\u001b[0m\u001b[1;33m)\u001b[0m\u001b[1;33m\u001b[0m\u001b[1;33m\u001b[0m\u001b[0m\n\u001b[0m\u001b[0;32m     18\u001b[0m \u001b[0mgoogle\u001b[0m\u001b[1;33m.\u001b[0m\u001b[0minfo\u001b[0m\u001b[1;33m(\u001b[0m\u001b[1;33m)\u001b[0m\u001b[1;33m\u001b[0m\u001b[1;33m\u001b[0m\u001b[0m\n\u001b[0;32m     19\u001b[0m \u001b[1;33m\u001b[0m\u001b[0m\n\u001b[0;32m     20\u001b[0m \u001b[1;31m#selecting/indexing strings that parse to dates\u001b[0m\u001b[1;33m\u001b[0m\u001b[1;33m\u001b[0m\u001b[0m\n",
      "\u001b[1;32mc:\\Python311\\Lib\\site-packages\\pandas\\util\\_decorators.py\u001b[0m in \u001b[0;36m?\u001b[1;34m(*args, **kwargs)\u001b[0m\n\u001b[0;32m    327\u001b[0m                     \u001b[0mmsg\u001b[0m\u001b[1;33m.\u001b[0m\u001b[0mformat\u001b[0m\u001b[1;33m(\u001b[0m\u001b[0marguments\u001b[0m\u001b[1;33m=\u001b[0m\u001b[0m_format_argument_list\u001b[0m\u001b[1;33m(\u001b[0m\u001b[0mallow_args\u001b[0m\u001b[1;33m)\u001b[0m\u001b[1;33m)\u001b[0m\u001b[1;33m,\u001b[0m\u001b[1;33m\u001b[0m\u001b[1;33m\u001b[0m\u001b[0m\n\u001b[0;32m    328\u001b[0m                     \u001b[0mFutureWarning\u001b[0m\u001b[1;33m,\u001b[0m\u001b[1;33m\u001b[0m\u001b[1;33m\u001b[0m\u001b[0m\n\u001b[0;32m    329\u001b[0m                     \u001b[0mstacklevel\u001b[0m\u001b[1;33m=\u001b[0m\u001b[0mfind_stack_level\u001b[0m\u001b[1;33m(\u001b[0m\u001b[1;33m)\u001b[0m\u001b[1;33m,\u001b[0m\u001b[1;33m\u001b[0m\u001b[1;33m\u001b[0m\u001b[0m\n\u001b[0;32m    330\u001b[0m                 )\n\u001b[1;32m--> 331\u001b[1;33m             \u001b[1;32mreturn\u001b[0m \u001b[0mfunc\u001b[0m\u001b[1;33m(\u001b[0m\u001b[1;33m*\u001b[0m\u001b[0margs\u001b[0m\u001b[1;33m,\u001b[0m \u001b[1;33m**\u001b[0m\u001b[0mkwargs\u001b[0m\u001b[1;33m)\u001b[0m\u001b[1;33m\u001b[0m\u001b[1;33m\u001b[0m\u001b[0m\n\u001b[0m",
      "\u001b[1;32mc:\\Python311\\Lib\\site-packages\\pandas\\core\\frame.py\u001b[0m in \u001b[0;36m?\u001b[1;34m(self, keys, drop, append, inplace, verify_integrity)\u001b[0m\n\u001b[0;32m   6008\u001b[0m                     \u001b[1;32mif\u001b[0m \u001b[1;32mnot\u001b[0m \u001b[0mfound\u001b[0m\u001b[1;33m:\u001b[0m\u001b[1;33m\u001b[0m\u001b[1;33m\u001b[0m\u001b[0m\n\u001b[0;32m   6009\u001b[0m                         \u001b[0mmissing\u001b[0m\u001b[1;33m.\u001b[0m\u001b[0mappend\u001b[0m\u001b[1;33m(\u001b[0m\u001b[0mcol\u001b[0m\u001b[1;33m)\u001b[0m\u001b[1;33m\u001b[0m\u001b[1;33m\u001b[0m\u001b[0m\n\u001b[0;32m   6010\u001b[0m \u001b[1;33m\u001b[0m\u001b[0m\n\u001b[0;32m   6011\u001b[0m         \u001b[1;32mif\u001b[0m \u001b[0mmissing\u001b[0m\u001b[1;33m:\u001b[0m\u001b[1;33m\u001b[0m\u001b[1;33m\u001b[0m\u001b[0m\n\u001b[1;32m-> 6012\u001b[1;33m             \u001b[1;32mraise\u001b[0m \u001b[0mKeyError\u001b[0m\u001b[1;33m(\u001b[0m\u001b[1;34mf\"None of {missing} are in the columns\"\u001b[0m\u001b[1;33m)\u001b[0m\u001b[1;33m\u001b[0m\u001b[1;33m\u001b[0m\u001b[0m\n\u001b[0m\u001b[0;32m   6013\u001b[0m \u001b[1;33m\u001b[0m\u001b[0m\n\u001b[0;32m   6014\u001b[0m         \u001b[1;32mif\u001b[0m \u001b[0minplace\u001b[0m\u001b[1;33m:\u001b[0m\u001b[1;33m\u001b[0m\u001b[1;33m\u001b[0m\u001b[0m\n\u001b[0;32m   6015\u001b[0m             \u001b[0mframe\u001b[0m \u001b[1;33m=\u001b[0m \u001b[0mself\u001b[0m\u001b[1;33m\u001b[0m\u001b[1;33m\u001b[0m\u001b[0m\n",
      "\u001b[1;31mKeyError\u001b[0m: \"None of ['date'] are in the columns\""
     ]
    }
   ],
   "source": [
    "from datetime import datetime\n",
    "import datetime as dt\n",
    "import pandas_datareader.data as pdr\n",
    "import yfinance as yf\n",
    "\n",
    "yf.pdr_override()\n",
    "#convert to datetime64\n",
    "y_symbols = ['GOOGL']\n",
    "from datetime import datetime\n",
    "startdate = datetime(2015,1,1)\n",
    "enddate = datetime.now()\n",
    "google = pdr.get_data_yahoo(y_symbols,start=startdate, end=enddate)\n",
    "\n",
    "google.info()\n",
    "\n",
    "#don't create copy\n",
    "google.set_index('date', inplace=True)\n",
    "google.info()\n",
    "\n",
    "#selecting/indexing strings that parse to dates\n",
    "google['2015'].info() #Pass string for part of date\n",
    "google['2015-3':'2016-2'].info() #Slice includes last month\n",
    "\n",
    "#select specific stock price\n",
    "google.loc['2016-6-1','price'] #Use full date with .loc[] \n",
    "\n",
    "#Convert DateTimeIndex to calendar day freq\n",
    "google.asfreq('D').info() #set day freq\n",
    "\n",
    "#Upsampling: higher feq => new dates => missing data\n",
    "google.asfreq('D').head()\n",
    "\n",
    "#Convert DateTimeIndex to biz day feq\n",
    "google = google.asfreq('B') #Change to calendar day feq\n",
    "google.info()\n"
   ]
  },
  {
   "attachments": {},
   "cell_type": "markdown",
   "metadata": {},
   "source": [
    "my code & interpretation"
   ]
  },
  {
   "cell_type": "code",
   "execution_count": 2,
   "metadata": {},
   "outputs": [
    {
     "name": "stdout",
     "output_type": "stream",
     "text": [
      "<class 'pandas.core.frame.DataFrame'>\n",
      "RangeIndex: 7 entries, 0 to 6\n",
      "Data columns (total 4 columns):\n",
      " #   Column  Non-Null Count  Dtype  \n",
      "---  ------  --------------  -----  \n",
      " 0   date    7 non-null      object \n",
      " 1   ozone   7 non-null      float64\n",
      " 2   pm25    7 non-null      float64\n",
      " 3   co      7 non-null      float64\n",
      "dtypes: float64(3), object(1)\n",
      "memory usage: 352.0+ bytes\n",
      "None\n",
      "<class 'pandas.core.frame.DataFrame'>\n",
      "RangeIndex: 7 entries, 0 to 6\n",
      "Data columns (total 1 columns):\n",
      " #   Column  Non-Null Count  Dtype         \n",
      "---  ------  --------------  -----         \n",
      " 0   date    7 non-null      datetime64[ns]\n",
      "dtypes: datetime64[ns](1)\n",
      "memory usage: 184.0 bytes\n",
      "<class 'pandas.core.frame.DataFrame'>\n",
      "RangeIndex: 7 entries, 0 to 6\n",
      "Data columns (total 4 columns):\n",
      " #   Column  Non-Null Count  Dtype  \n",
      "---  ------  --------------  -----  \n",
      " 0   date    7 non-null      object \n",
      " 1   ozone   7 non-null      float64\n",
      " 2   pm25    7 non-null      float64\n",
      " 3   co      7 non-null      float64\n",
      "dtypes: float64(3), object(1)\n",
      "memory usage: 352.0+ bytes\n",
      "None\n"
     ]
    },
    {
     "data": {
      "image/png": "[encoded data removed]",
      "text/plain": [
       "<Figure size 640x480 with 3 Axes>"
      ]
     },
     "metadata": {},
     "output_type": "display_data"
    }
   ],
   "source": [
    "import pandas as pd\n",
    "import numpy as np\n",
    "import matplotlib.pyplot as plt\n",
    "from datetime import datetime\n",
    "\n",
    "data = pd.read_csv('nyc.csv')\n",
    "# Inspect data\n",
    "print(data.info())\n",
    "# Convert the date column to datetime64\n",
    "index = pd.to_datetime(data['date'])\n",
    "# Set date column as index\n",
    "pd.DataFrame({'date': index}).info()\n",
    "\n",
    "# Inspect data \n",
    "print(data.info())\n",
    "\n",
    "# Plot data\n",
    "#date = data['date']\n",
    "#study = data['ozone']\n",
    "#plt.plot(date, study)\n",
    "data.plot(subplots=True)\n",
    "plt.show()\n"
   ]
  },
  {
   "attachments": {},
   "cell_type": "markdown",
   "metadata": {},
   "source": [
    "Datacamp's code"
   ]
  },
  {
   "cell_type": "code",
   "execution_count": 19,
   "metadata": {},
   "outputs": [
    {
     "name": "stdout",
     "output_type": "stream",
     "text": [
      "<class 'pandas.core.frame.DataFrame'>\n",
      "RangeIndex: 7 entries, 0 to 6\n",
      "Data columns (total 4 columns):\n",
      " #   Column  Non-Null Count  Dtype  \n",
      "---  ------  --------------  -----  \n",
      " 0   date    7 non-null      object \n",
      " 1   ozone   7 non-null      float64\n",
      " 2   pm25    7 non-null      float64\n",
      " 3   co      7 non-null      float64\n",
      "dtypes: float64(3), object(1)\n",
      "memory usage: 352.0+ bytes\n",
      "None\n",
      "<class 'pandas.core.frame.DataFrame'>\n",
      "DatetimeIndex: 7 entries, 1999-07-01 to 1999-07-07\n",
      "Data columns (total 3 columns):\n",
      " #   Column  Non-Null Count  Dtype  \n",
      "---  ------  --------------  -----  \n",
      " 0   ozone   7 non-null      float64\n",
      " 1   pm25    7 non-null      float64\n",
      " 2   co      7 non-null      float64\n",
      "dtypes: float64(3)\n",
      "memory usage: 224.0 bytes\n",
      "None\n"
     ]
    },
    {
     "data": {
      "image/png": "[encoded data removed]",
      "text/plain": [
       "<Figure size 640x480 with 3 Axes>"
      ]
     },
     "metadata": {},
     "output_type": "display_data"
    }
   ],
   "source": [
    "import pandas as pd\n",
    "import numpy as np\n",
    "import matplotlib.pyplot as plt\n",
    "from datetime import datetime\n",
    "\n",
    "data = pd.read_csv('nyc.csv')\n",
    "# Inspect data\n",
    "print(data.info())\n",
    "# Convert the date column to datetime64\n",
    "data.date = pd.to_datetime(data.date)\n",
    "# Set date column as index\n",
    "data.set_index('date', inplace=True)\n",
    "\n",
    "# Inspect data \n",
    "print(data.info())\n",
    "\n",
    "# Plot data\n",
    "data.plot(subplots=True)\n",
    "plt.show()\n"
   ]
  },
  {
   "cell_type": "code",
   "execution_count": 4,
   "metadata": {},
   "outputs": [
    {
     "name": "stdout",
     "output_type": "stream",
     "text": [
      "[*********************100%***********************]  1 of 1 completed\n"
     ]
    },
    {
     "data": {
      "image/png": "[encoded data removed]",
      "text/plain": [
       "<Figure size 640x480 with 1 Axes>"
      ]
     },
     "metadata": {},
     "output_type": "display_data"
    }
   ],
   "source": [
    "import datetime as dt\n",
    "import pandas_datareader.data as pdr\n",
    "import pandas as pd\n",
    "import yfinance as yf\n",
    "import matplotlib.pyplot as plt\n",
    "\n",
    "#solve string problem\n",
    "yf.pdr_override()\n",
    "#starting setup\n",
    "y_symbols = ['GOOGL']\n",
    "from datetime import datetime\n",
    "startdate = datetime(2007,1,1)\n",
    "enddate = datetime.now()\n",
    "google = pdr.get_data_yahoo(y_symbols,start=startdate, end=enddate)\n",
    "# Create dataframe prices here\n",
    "prices = pd.DataFrame()\n",
    "#prices\n",
    "\n",
    "# Select data for each year and concatenate with prices here \n",
    "for year in ['2021','2022','2023']:\n",
    "    price_per_year = google.loc[year, ['Close']].reset_index(drop=True)\n",
    "    price_per_year.rename(columns={'Close': year}, inplace=True)\n",
    "    prices = pd.concat([prices, price_per_year], axis=1)\n",
    "\n",
    "# Plot prices\n",
    "prices.plot()\n",
    "plt.show()\n"
   ]
  },
  {
   "cell_type": "code",
   "execution_count": 23,
   "metadata": {},
   "outputs": [
    {
     "name": "stdout",
     "output_type": "stream",
     "text": [
      "<class 'pandas.core.frame.DataFrame'>\n",
      "RangeIndex: 24 entries, 0 to 23\n",
      "Data columns (total 4 columns):\n",
      " #   Column       Non-Null Count  Dtype  \n",
      "---  ------       --------------  -----  \n",
      " 0   date         24 non-null     object \n",
      " 1   Chicago      24 non-null     float64\n",
      " 2   Los Angeles  24 non-null     float64\n",
      " 3   New York     24 non-null     float64\n",
      "dtypes: float64(3), object(1)\n",
      "memory usage: 896.0+ bytes\n",
      "None\n",
      "<class 'pandas.core.frame.DataFrame'>\n",
      "DatetimeIndex: 24 entries, 2005-01-01 to 2006-01-12\n",
      "Data columns (total 3 columns):\n",
      " #   Column       Non-Null Count  Dtype  \n",
      "---  ------       --------------  -----  \n",
      " 0   Chicago      24 non-null     float64\n",
      " 1   Los Angeles  24 non-null     float64\n",
      " 2   New York     24 non-null     float64\n",
      "dtypes: float64(3)\n",
      "memory usage: 768.0 bytes\n",
      "None\n"
     ]
    },
    {
     "data": {
      "image/png": "[encoded data removed]",
      "text/plain": [
       "<Figure size 640x480 with 3 Axes>"
      ]
     },
     "metadata": {},
     "output_type": "display_data"
    },
    {
     "data": {
      "image/png": "[encoded data removed]",
      "text/plain": [
       "<Figure size 640x480 with 3 Axes>"
      ]
     },
     "metadata": {},
     "output_type": "display_data"
    }
   ],
   "source": [
    "import pandas as pd\n",
    "import numpy as np\n",
    "import matplotlib.pyplot as plt\n",
    "from datetime import datetime\n",
    "\n",
    "co = pd.read_csv('co_cities.csv')\n",
    "# Inspect data\n",
    "print(co.info())\n",
    "# Convert the date column to datetime64\n",
    "co.date = pd.to_datetime(co.date)\n",
    "# Set date column as index\n",
    "co.set_index('date', inplace=True)\n",
    "\n",
    "# Inspect data \n",
    "print(co.info())\n",
    "\n",
    "# Set the frequency to calendar daily\n",
    "co = co.asfreq('D')\n",
    "\n",
    "# Plot the co\n",
    "co.plot(subplots=True)\n",
    "plt.show()\n",
    "\n",
    "\n",
    "# Set frequency to monthly\n",
    "co = co.asfreq('M')\n",
    "\n",
    "# Plot the co\n",
    "co.plot(subplots=True)\n",
    "plt.show()\n",
    "\n"
   ]
  },
  {
   "attachments": {},
   "cell_type": "markdown",
   "metadata": {},
   "source": [
    ".shift()\n",
    "Shifting values back & forth in time;\n",
    "Get the difference for the period;\n",
    "Compute the % change for the periods;\n"
   ]
  },
  {
   "cell_type": "code",
   "execution_count": 14,
   "metadata": {},
   "outputs": [
    {
     "name": "stdout",
     "output_type": "stream",
     "text": [
      "[*********************100%***********************]  1 of 1 completed\n"
     ]
    },
    {
     "data": {
      "text/html": [
       "<div>\n",
       "<style scoped>\n",
       "    .dataframe tbody tr th:only-of-type {\n",
       "        vertical-align: middle;\n",
       "    }\n",
       "\n",
       "    .dataframe tbody tr th {\n",
       "        vertical-align: top;\n",
       "    }\n",
       "\n",
       "    .dataframe thead th {\n",
       "        text-align: right;\n",
       "    }\n",
       "</style>\n",
       "<table border=\"1\" class=\"dataframe\">\n",
       "  <thead>\n",
       "    <tr style=\"text-align: right;\">\n",
       "      <th></th>\n",
       "      <th>Close</th>\n",
       "      <th>shifted</th>\n",
       "      <th>lagged</th>\n",
       "    </tr>\n",
       "    <tr>\n",
       "      <th>Date</th>\n",
       "      <th></th>\n",
       "      <th></th>\n",
       "      <th></th>\n",
       "    </tr>\n",
       "  </thead>\n",
       "  <tbody>\n",
       "    <tr>\n",
       "      <th>2007-01-03</th>\n",
       "      <td>11.701451</td>\n",
       "      <td>NaN</td>\n",
       "      <td>12.093594</td>\n",
       "    </tr>\n",
       "    <tr>\n",
       "      <th>2007-01-04</th>\n",
       "      <td>12.093594</td>\n",
       "      <td>11.701451</td>\n",
       "      <td>12.191942</td>\n",
       "    </tr>\n",
       "    <tr>\n",
       "      <th>2007-01-05</th>\n",
       "      <td>12.191942</td>\n",
       "      <td>12.093594</td>\n",
       "      <td>12.101602</td>\n",
       "    </tr>\n",
       "    <tr>\n",
       "      <th>2007-01-08</th>\n",
       "      <td>12.101602</td>\n",
       "      <td>12.191942</td>\n",
       "      <td>12.149650</td>\n",
       "    </tr>\n",
       "    <tr>\n",
       "      <th>2007-01-09</th>\n",
       "      <td>12.149650</td>\n",
       "      <td>12.101602</td>\n",
       "      <td>12.248749</td>\n",
       "    </tr>\n",
       "    <tr>\n",
       "      <th>2007-01-10</th>\n",
       "      <td>12.248749</td>\n",
       "      <td>12.149650</td>\n",
       "      <td>12.505506</td>\n",
       "    </tr>\n",
       "    <tr>\n",
       "      <th>2007-01-11</th>\n",
       "      <td>12.505506</td>\n",
       "      <td>12.248749</td>\n",
       "      <td>12.637638</td>\n",
       "    </tr>\n",
       "    <tr>\n",
       "      <th>2007-01-12</th>\n",
       "      <td>12.637638</td>\n",
       "      <td>12.505506</td>\n",
       "      <td>12.619620</td>\n",
       "    </tr>\n",
       "    <tr>\n",
       "      <th>2007-01-16</th>\n",
       "      <td>12.619620</td>\n",
       "      <td>12.637638</td>\n",
       "      <td>12.444444</td>\n",
       "    </tr>\n",
       "    <tr>\n",
       "      <th>2007-01-17</th>\n",
       "      <td>12.444444</td>\n",
       "      <td>12.619620</td>\n",
       "      <td>12.207958</td>\n",
       "    </tr>\n",
       "    <tr>\n",
       "      <th>2007-01-18</th>\n",
       "      <td>12.207958</td>\n",
       "      <td>12.444444</td>\n",
       "      <td>12.256006</td>\n",
       "    </tr>\n",
       "    <tr>\n",
       "      <th>2007-01-19</th>\n",
       "      <td>12.256006</td>\n",
       "      <td>12.207958</td>\n",
       "      <td>12.033033</td>\n",
       "    </tr>\n",
       "    <tr>\n",
       "      <th>2007-01-22</th>\n",
       "      <td>12.033033</td>\n",
       "      <td>12.256006</td>\n",
       "      <td>11.988238</td>\n",
       "    </tr>\n",
       "    <tr>\n",
       "      <th>2007-01-23</th>\n",
       "      <td>11.988238</td>\n",
       "      <td>12.033033</td>\n",
       "      <td>12.489239</td>\n",
       "    </tr>\n",
       "    <tr>\n",
       "      <th>2007-01-24</th>\n",
       "      <td>12.489239</td>\n",
       "      <td>11.988238</td>\n",
       "      <td>12.214464</td>\n",
       "    </tr>\n",
       "    <tr>\n",
       "      <th>2007-01-25</th>\n",
       "      <td>12.214464</td>\n",
       "      <td>12.489239</td>\n",
       "      <td>12.408408</td>\n",
       "    </tr>\n",
       "    <tr>\n",
       "      <th>2007-01-26</th>\n",
       "      <td>12.408408</td>\n",
       "      <td>12.214464</td>\n",
       "      <td>12.324074</td>\n",
       "    </tr>\n",
       "    <tr>\n",
       "      <th>2007-01-29</th>\n",
       "      <td>12.324074</td>\n",
       "      <td>12.408408</td>\n",
       "      <td>12.370370</td>\n",
       "    </tr>\n",
       "    <tr>\n",
       "      <th>2007-01-30</th>\n",
       "      <td>12.370370</td>\n",
       "      <td>12.324074</td>\n",
       "      <td>NaN</td>\n",
       "    </tr>\n",
       "  </tbody>\n",
       "</table>\n",
       "</div>"
      ],
      "text/plain": [
       "                Close    shifted     lagged\n",
       "Date                                       \n",
       "2007-01-03  11.701451        NaN  12.093594\n",
       "2007-01-04  12.093594  11.701451  12.191942\n",
       "2007-01-05  12.191942  12.093594  12.101602\n",
       "2007-01-08  12.101602  12.191942  12.149650\n",
       "2007-01-09  12.149650  12.101602  12.248749\n",
       "2007-01-10  12.248749  12.149650  12.505506\n",
       "2007-01-11  12.505506  12.248749  12.637638\n",
       "2007-01-12  12.637638  12.505506  12.619620\n",
       "2007-01-16  12.619620  12.637638  12.444444\n",
       "2007-01-17  12.444444  12.619620  12.207958\n",
       "2007-01-18  12.207958  12.444444  12.256006\n",
       "2007-01-19  12.256006  12.207958  12.033033\n",
       "2007-01-22  12.033033  12.256006  11.988238\n",
       "2007-01-23  11.988238  12.033033  12.489239\n",
       "2007-01-24  12.489239  11.988238  12.214464\n",
       "2007-01-25  12.214464  12.489239  12.408408\n",
       "2007-01-26  12.408408  12.214464  12.324074\n",
       "2007-01-29  12.324074  12.408408  12.370370\n",
       "2007-01-30  12.370370  12.324074        NaN"
      ]
     },
     "execution_count": 14,
     "metadata": {},
     "output_type": "execute_result"
    }
   ],
   "source": [
    "import datetime as dt\n",
    "import pandas_datareader.data as pdr\n",
    "import pandas as pd\n",
    "import yfinance as yf\n",
    "import matplotlib.pyplot as plt\n",
    "\n",
    "#solve string problem\n",
    "yf.pdr_override()\n",
    "#starting setup\n",
    "y_symbols = ['GOOGL']\n",
    "from datetime import datetime\n",
    "startdate = datetime(2007,1,1)\n",
    "enddate = datetime(2007,1,31)\n",
    "google = pdr.get_data_yahoo(y_symbols,start=startdate, end=enddate)\n",
    "\n",
    "# Create dataframe prices here\n",
    "\n",
    "#shifting periods\n",
    "google['shifted'] = google.Close.shift() #default: periods=1 forward\n",
    "google['lagged'] = google.Close.shift(periods=-1) #1period back in time\n",
    "google[['Close','shifted','lagged']]"
   ]
  },
  {
   "cell_type": "code",
   "execution_count": 15,
   "metadata": {},
   "outputs": [
    {
     "data": {
      "text/html": [
       "<div>\n",
       "<style scoped>\n",
       "    .dataframe tbody tr th:only-of-type {\n",
       "        vertical-align: middle;\n",
       "    }\n",
       "\n",
       "    .dataframe tbody tr th {\n",
       "        vertical-align: top;\n",
       "    }\n",
       "\n",
       "    .dataframe thead th {\n",
       "        text-align: right;\n",
       "    }\n",
       "</style>\n",
       "<table border=\"1\" class=\"dataframe\">\n",
       "  <thead>\n",
       "    <tr style=\"text-align: right;\">\n",
       "      <th></th>\n",
       "      <th>Close</th>\n",
       "      <th>shifted</th>\n",
       "      <th>change</th>\n",
       "    </tr>\n",
       "    <tr>\n",
       "      <th>Date</th>\n",
       "      <th></th>\n",
       "      <th></th>\n",
       "      <th></th>\n",
       "    </tr>\n",
       "  </thead>\n",
       "  <tbody>\n",
       "    <tr>\n",
       "      <th>2007-01-03</th>\n",
       "      <td>11.701451</td>\n",
       "      <td>NaN</td>\n",
       "      <td>NaN</td>\n",
       "    </tr>\n",
       "    <tr>\n",
       "      <th>2007-01-04</th>\n",
       "      <td>12.093594</td>\n",
       "      <td>11.701451</td>\n",
       "      <td>1.033512</td>\n",
       "    </tr>\n",
       "    <tr>\n",
       "      <th>2007-01-05</th>\n",
       "      <td>12.191942</td>\n",
       "      <td>12.093594</td>\n",
       "      <td>1.008132</td>\n",
       "    </tr>\n",
       "    <tr>\n",
       "      <th>2007-01-08</th>\n",
       "      <td>12.101602</td>\n",
       "      <td>12.191942</td>\n",
       "      <td>0.992590</td>\n",
       "    </tr>\n",
       "    <tr>\n",
       "      <th>2007-01-09</th>\n",
       "      <td>12.149650</td>\n",
       "      <td>12.101602</td>\n",
       "      <td>1.003970</td>\n",
       "    </tr>\n",
       "  </tbody>\n",
       "</table>\n",
       "</div>"
      ],
      "text/plain": [
       "                Close    shifted    change\n",
       "Date                                      \n",
       "2007-01-03  11.701451        NaN       NaN\n",
       "2007-01-04  12.093594  11.701451  1.033512\n",
       "2007-01-05  12.191942  12.093594  1.008132\n",
       "2007-01-08  12.101602  12.191942  0.992590\n",
       "2007-01-09  12.149650  12.101602  1.003970"
      ]
     },
     "execution_count": 15,
     "metadata": {},
     "output_type": "execute_result"
    }
   ],
   "source": [
    "#call Financial Return\n",
    "#calculate Rate of Change x**t / x**t-1\n",
    "google['change'] = google.Close.div(google.shifted)\n",
    "google[['Close','shifted','change']].head()"
   ]
  },
  {
   "cell_type": "code",
   "execution_count": 16,
   "metadata": {},
   "outputs": [
    {
     "data": {
      "text/html": [
       "<div>\n",
       "<style scoped>\n",
       "    .dataframe tbody tr th:only-of-type {\n",
       "        vertical-align: middle;\n",
       "    }\n",
       "\n",
       "    .dataframe tbody tr th {\n",
       "        vertical-align: top;\n",
       "    }\n",
       "\n",
       "    .dataframe thead th {\n",
       "        text-align: right;\n",
       "    }\n",
       "</style>\n",
       "<table border=\"1\" class=\"dataframe\">\n",
       "  <thead>\n",
       "    <tr style=\"text-align: right;\">\n",
       "      <th></th>\n",
       "      <th>Close</th>\n",
       "      <th>shifted</th>\n",
       "      <th>change</th>\n",
       "      <th>return</th>\n",
       "    </tr>\n",
       "    <tr>\n",
       "      <th>Date</th>\n",
       "      <th></th>\n",
       "      <th></th>\n",
       "      <th></th>\n",
       "      <th></th>\n",
       "    </tr>\n",
       "  </thead>\n",
       "  <tbody>\n",
       "    <tr>\n",
       "      <th>2007-01-03</th>\n",
       "      <td>11.701451</td>\n",
       "      <td>NaN</td>\n",
       "      <td>NaN</td>\n",
       "      <td>NaN</td>\n",
       "    </tr>\n",
       "    <tr>\n",
       "      <th>2007-01-04</th>\n",
       "      <td>12.093594</td>\n",
       "      <td>11.701451</td>\n",
       "      <td>1.033512</td>\n",
       "      <td>3.351228</td>\n",
       "    </tr>\n",
       "    <tr>\n",
       "      <th>2007-01-05</th>\n",
       "      <td>12.191942</td>\n",
       "      <td>12.093594</td>\n",
       "      <td>1.008132</td>\n",
       "      <td>0.813229</td>\n",
       "    </tr>\n",
       "    <tr>\n",
       "      <th>2007-01-08</th>\n",
       "      <td>12.101602</td>\n",
       "      <td>12.191942</td>\n",
       "      <td>0.992590</td>\n",
       "      <td>-0.740986</td>\n",
       "    </tr>\n",
       "    <tr>\n",
       "      <th>2007-01-09</th>\n",
       "      <td>12.149650</td>\n",
       "      <td>12.101602</td>\n",
       "      <td>1.003970</td>\n",
       "      <td>0.397039</td>\n",
       "    </tr>\n",
       "  </tbody>\n",
       "</table>\n",
       "</div>"
      ],
      "text/plain": [
       "                Close    shifted    change    return\n",
       "Date                                                \n",
       "2007-01-03  11.701451        NaN       NaN       NaN\n",
       "2007-01-04  12.093594  11.701451  1.033512  3.351228\n",
       "2007-01-05  12.191942  12.093594  1.008132  0.813229\n",
       "2007-01-08  12.101602  12.191942  0.992590 -0.740986\n",
       "2007-01-09  12.149650  12.101602  1.003970  0.397039"
      ]
     },
     "execution_count": 16,
     "metadata": {},
     "output_type": "execute_result"
    }
   ],
   "source": [
    "#calculate one-period percent change\n",
    "google['return'] = google.change.sub(1).mul(100)\n",
    "google[['Close','shifted','change','return']].head()"
   ]
  },
  {
   "cell_type": "code",
   "execution_count": 17,
   "metadata": {},
   "outputs": [
    {
     "data": {
      "text/html": [
       "<div>\n",
       "<style scoped>\n",
       "    .dataframe tbody tr th:only-of-type {\n",
       "        vertical-align: middle;\n",
       "    }\n",
       "\n",
       "    .dataframe tbody tr th {\n",
       "        vertical-align: top;\n",
       "    }\n",
       "\n",
       "    .dataframe thead th {\n",
       "        text-align: right;\n",
       "    }\n",
       "</style>\n",
       "<table border=\"1\" class=\"dataframe\">\n",
       "  <thead>\n",
       "    <tr style=\"text-align: right;\">\n",
       "      <th></th>\n",
       "      <th>Close</th>\n",
       "      <th>diff</th>\n",
       "    </tr>\n",
       "    <tr>\n",
       "      <th>Date</th>\n",
       "      <th></th>\n",
       "      <th></th>\n",
       "    </tr>\n",
       "  </thead>\n",
       "  <tbody>\n",
       "    <tr>\n",
       "      <th>2007-01-03</th>\n",
       "      <td>11.701451</td>\n",
       "      <td>NaN</td>\n",
       "    </tr>\n",
       "    <tr>\n",
       "      <th>2007-01-04</th>\n",
       "      <td>12.093594</td>\n",
       "      <td>0.392142</td>\n",
       "    </tr>\n",
       "    <tr>\n",
       "      <th>2007-01-05</th>\n",
       "      <td>12.191942</td>\n",
       "      <td>0.098349</td>\n",
       "    </tr>\n",
       "    <tr>\n",
       "      <th>2007-01-08</th>\n",
       "      <td>12.101602</td>\n",
       "      <td>-0.090341</td>\n",
       "    </tr>\n",
       "    <tr>\n",
       "      <th>2007-01-09</th>\n",
       "      <td>12.149650</td>\n",
       "      <td>0.048048</td>\n",
       "    </tr>\n",
       "  </tbody>\n",
       "</table>\n",
       "</div>"
      ],
      "text/plain": [
       "                Close      diff\n",
       "Date                           \n",
       "2007-01-03  11.701451       NaN\n",
       "2007-01-04  12.093594  0.392142\n",
       "2007-01-05  12.191942  0.098349\n",
       "2007-01-08  12.101602 -0.090341\n",
       "2007-01-09  12.149650  0.048048"
      ]
     },
     "execution_count": 17,
     "metadata": {},
     "output_type": "execute_result"
    }
   ],
   "source": [
    "#.diff() difference in value for 2 adjacent periods x**t - x**t-1\n",
    "google['diff'] = google.Close.diff()\n",
    "google[['Close','diff']].head()"
   ]
  },
  {
   "cell_type": "code",
   "execution_count": 20,
   "metadata": {},
   "outputs": [
    {
     "data": {
      "text/html": [
       "<div>\n",
       "<style scoped>\n",
       "    .dataframe tbody tr th:only-of-type {\n",
       "        vertical-align: middle;\n",
       "    }\n",
       "\n",
       "    .dataframe tbody tr th {\n",
       "        vertical-align: top;\n",
       "    }\n",
       "\n",
       "    .dataframe thead th {\n",
       "        text-align: right;\n",
       "    }\n",
       "</style>\n",
       "<table border=\"1\" class=\"dataframe\">\n",
       "  <thead>\n",
       "    <tr style=\"text-align: right;\">\n",
       "      <th></th>\n",
       "      <th>Close</th>\n",
       "      <th>return</th>\n",
       "      <th>pct_change</th>\n",
       "    </tr>\n",
       "    <tr>\n",
       "      <th>Date</th>\n",
       "      <th></th>\n",
       "      <th></th>\n",
       "      <th></th>\n",
       "    </tr>\n",
       "  </thead>\n",
       "  <tbody>\n",
       "    <tr>\n",
       "      <th>2007-01-03</th>\n",
       "      <td>11.701451</td>\n",
       "      <td>NaN</td>\n",
       "      <td>NaN</td>\n",
       "    </tr>\n",
       "    <tr>\n",
       "      <th>2007-01-04</th>\n",
       "      <td>12.093594</td>\n",
       "      <td>3.351228</td>\n",
       "      <td>3.351228</td>\n",
       "    </tr>\n",
       "    <tr>\n",
       "      <th>2007-01-05</th>\n",
       "      <td>12.191942</td>\n",
       "      <td>0.813229</td>\n",
       "      <td>0.813229</td>\n",
       "    </tr>\n",
       "    <tr>\n",
       "      <th>2007-01-08</th>\n",
       "      <td>12.101602</td>\n",
       "      <td>-0.740986</td>\n",
       "      <td>-0.740986</td>\n",
       "    </tr>\n",
       "    <tr>\n",
       "      <th>2007-01-09</th>\n",
       "      <td>12.149650</td>\n",
       "      <td>0.397039</td>\n",
       "      <td>0.397039</td>\n",
       "    </tr>\n",
       "  </tbody>\n",
       "</table>\n",
       "</div>"
      ],
      "text/plain": [
       "                Close    return  pct_change\n",
       "Date                                       \n",
       "2007-01-03  11.701451       NaN         NaN\n",
       "2007-01-04  12.093594  3.351228    3.351228\n",
       "2007-01-05  12.191942  0.813229    0.813229\n",
       "2007-01-08  12.101602 -0.740986   -0.740986\n",
       "2007-01-09  12.149650  0.397039    0.397039"
      ]
     },
     "execution_count": 20,
     "metadata": {},
     "output_type": "execute_result"
    }
   ],
   "source": [
    "# .pct_change() percent change for two adjacent periods x**t/x**t-1\n",
    "google['pct_change'] = google.Close.pct_change().mul(100)\n",
    "google[['Close','return','pct_change']].head()"
   ]
  },
  {
   "cell_type": "code",
   "execution_count": 21,
   "metadata": {},
   "outputs": [
    {
     "data": {
      "text/html": [
       "<div>\n",
       "<style scoped>\n",
       "    .dataframe tbody tr th:only-of-type {\n",
       "        vertical-align: middle;\n",
       "    }\n",
       "\n",
       "    .dataframe tbody tr th {\n",
       "        vertical-align: top;\n",
       "    }\n",
       "\n",
       "    .dataframe thead th {\n",
       "        text-align: right;\n",
       "    }\n",
       "</style>\n",
       "<table border=\"1\" class=\"dataframe\">\n",
       "  <thead>\n",
       "    <tr style=\"text-align: right;\">\n",
       "      <th></th>\n",
       "      <th>Close</th>\n",
       "      <th>return_3d</th>\n",
       "    </tr>\n",
       "    <tr>\n",
       "      <th>Date</th>\n",
       "      <th></th>\n",
       "      <th></th>\n",
       "    </tr>\n",
       "  </thead>\n",
       "  <tbody>\n",
       "    <tr>\n",
       "      <th>2007-01-03</th>\n",
       "      <td>11.701451</td>\n",
       "      <td>NaN</td>\n",
       "    </tr>\n",
       "    <tr>\n",
       "      <th>2007-01-04</th>\n",
       "      <td>12.093594</td>\n",
       "      <td>NaN</td>\n",
       "    </tr>\n",
       "    <tr>\n",
       "      <th>2007-01-05</th>\n",
       "      <td>12.191942</td>\n",
       "      <td>NaN</td>\n",
       "    </tr>\n",
       "    <tr>\n",
       "      <th>2007-01-08</th>\n",
       "      <td>12.101602</td>\n",
       "      <td>3.419664</td>\n",
       "    </tr>\n",
       "    <tr>\n",
       "      <th>2007-01-09</th>\n",
       "      <td>12.149650</td>\n",
       "      <td>0.463518</td>\n",
       "    </tr>\n",
       "  </tbody>\n",
       "</table>\n",
       "</div>"
      ],
      "text/plain": [
       "                Close  return_3d\n",
       "Date                            \n",
       "2007-01-03  11.701451        NaN\n",
       "2007-01-04  12.093594        NaN\n",
       "2007-01-05  12.191942        NaN\n",
       "2007-01-08  12.101602   3.419664\n",
       "2007-01-09  12.149650   0.463518"
      ]
     },
     "execution_count": 21,
     "metadata": {},
     "output_type": "execute_result"
    }
   ],
   "source": [
    "#google points several periods apart\n",
    "google['return_3d'] = google.Close.pct_change(periods=3).mul(100)\n",
    "google[['Close','return_3d']].head()"
   ]
  },
  {
   "cell_type": "code",
   "execution_count": 43,
   "metadata": {},
   "outputs": [
    {
     "name": "stdout",
     "output_type": "stream",
     "text": [
      "[*********************100%***********************]  1 of 1 completed\n"
     ]
    },
    {
     "data": {
      "image/png": "[encoded data removed]",
      "text/plain": [
       "<Figure size 640x480 with 1 Axes>"
      ]
     },
     "metadata": {},
     "output_type": "display_data"
    }
   ],
   "source": [
    "import datetime as dt\n",
    "import pandas_datareader.data as pdr\n",
    "import pandas as pd\n",
    "import yfinance as yf\n",
    "import matplotlib.pyplot as plt\n",
    "\n",
    "#solve string problem\n",
    "yf.pdr_override()\n",
    "#starting setup\n",
    "y_symbols = ['GOOGL']\n",
    "from datetime import datetime\n",
    "startdate = datetime(2015,1,1)\n",
    "enddate = datetime.now()\n",
    "google = pdr.get_data_yahoo(y_symbols,start=startdate, end=enddate ) \n",
    "\n",
    "# Create dataframe prices here\n",
    "prices = pd.DataFrame()\n",
    "\n",
    "# Set data frequency to business daily\n",
    "google = google.asfreq('B')\n",
    "\n",
    "# Create 'lagged' and 'shifted'\n",
    "google['lagged'] = google.Close.shift(periods=-90)\n",
    "google['shifted'] = google.Close.shift(periods=90)\n",
    "\n",
    "\n",
    "# Plot the google price series\n",
    "google.plot()\n",
    "plt.show()\n",
    "\n"
   ]
  },
  {
   "cell_type": "code",
   "execution_count": 6,
   "metadata": {},
   "outputs": [
    {
     "name": "stdout",
     "output_type": "stream",
     "text": [
      "[*********************100%***********************]  1 of 1 completed\n",
      "                  Open        High         Low       Close   Adj Close  \\\n",
      "Date                                                                     \n",
      "2023-06-26  120.760002  122.000000  118.269997  118.339996  118.339996   \n",
      "2023-06-27  117.080002  119.080002  116.099998  118.330002  118.330002   \n",
      "2023-06-28  117.089996  120.389999  116.849998  120.180000  120.180000   \n",
      "2023-06-29  119.239998  120.059998  118.300003  119.099998  119.099998   \n",
      "2023-06-30  120.169998  121.080002  119.690002  119.699997  119.699997   \n",
      "\n",
      "              Volume  shifted_30  change_30   diff_30  \n",
      "Date                                                   \n",
      "2023-06-26  33969900  116.570000   1.769997  1.769997  \n",
      "2023-06-27  39535900  117.510002   0.820000  0.820000  \n",
      "2023-06-28  27091400  116.510002   3.669998  3.669998  \n",
      "2023-06-29  24090900  119.510002  -0.410004 -0.410004  \n",
      "2023-06-30  29519700  120.839996  -1.139999 -1.139999  \n",
      "0.0    2108\n",
      "dtype: int64\n"
     ]
    }
   ],
   "source": [
    "import datetime as dt\n",
    "import pandas_datareader.data as pdr\n",
    "import pandas as pd\n",
    "import yfinance as yf\n",
    "import matplotlib.pyplot as plt\n",
    "\n",
    "#solve string problem\n",
    "yf.pdr_override()\n",
    "#starting setup\n",
    "y_symbols = ['GOOGL']\n",
    "from datetime import datetime\n",
    "startdate = datetime(2015,1,1)\n",
    "enddate = datetime.now()\n",
    "google = pdr.get_data_yahoo(y_symbols,start=startdate, end=enddate ) \n",
    "\n",
    "# Create dataframe prices here\n",
    "prices = pd.DataFrame()\n",
    "\n",
    "# Create shifted_30 here\n",
    "google['shifted_30'] = google.Close.shift(30)\n",
    "\n",
    "# Subtract shifted_30 from price\n",
    "google['change_30'] =google.Close.sub(google.shifted_30)\n",
    "\n",
    "# Get the 30-day price difference\n",
    "google['diff_30'] =google.Close.diff(30)\n",
    "\n",
    "# Inspect the last five rows of price\n",
    "print(google.tail())\n",
    "\n",
    "# Show the value_counts of the difference between change_30 and diff_30\n",
    "print(google.change_30.sub(google.diff_30).value_counts())\n",
    "\n"
   ]
  },
  {
   "cell_type": "code",
   "execution_count": 9,
   "metadata": {},
   "outputs": [
    {
     "name": "stdout",
     "output_type": "stream",
     "text": [
      "[*********************100%***********************]  1 of 1 completed\n",
      "                 Open       High     Low      Close  Adj Close       Volume  \\\n",
      "Date                                                                          \n",
      "2015-12-25        NaN        NaN     NaN        NaN        NaN          NaN   \n",
      "2015-12-28  26.897499  26.922501  26.545  26.705000  24.376945  106816800.0   \n",
      "2015-12-29  26.740000  27.357500  26.715  27.184999  24.815105  123724800.0   \n",
      "2015-12-30  27.145000  27.174999  26.795  26.830000  24.491056  100855200.0   \n",
      "2015-12-31  26.752501  26.757500  26.205  26.315001  24.020950  163649200.0   \n",
      "\n",
      "            shifted_30  change_30   diff_30  \n",
      "Date                                         \n",
      "2015-12-25   28.084999        NaN       NaN  \n",
      "2015-12-28   28.545000  -1.840000 -1.840000  \n",
      "2015-12-29   28.422501  -1.237501 -1.237501  \n",
      "2015-12-30   29.322500  -2.492500 -2.492500  \n",
      "2015-12-31   29.695000  -3.379999 -3.379999  \n",
      "0.0    703\n",
      "dtype: int64\n"
     ]
    }
   ],
   "source": [
    "import datetime as dt\n",
    "import pandas_datareader.data as pdr\n",
    "import pandas as pd\n",
    "import yfinance as yf\n",
    "\n",
    "ticker = 'AAPL'\n",
    "#SOLVE string problem\n",
    "yf.pdr_override()\n",
    "#compililng apple dataframe\n",
    "from datetime import datetime\n",
    "startdate = datetime(2013,1,1)\n",
    "enddate = datetime(2016,1,1)\n",
    "apple = pdr.get_data_yahoo(ticker,start=startdate, end=enddate ) \n",
    "#create dataframe prices\n",
    "prices = pd.DataFrame()\n",
    "\n",
    "#set data freq to biz daily\n",
    "apple = apple.asfreq('B')\n",
    "\n",
    "# Created shifted_30 here\n",
    "apple['shifted_30'] = apple.Close.shift(30)\n",
    "\n",
    "# Subtract shifted_30 from price\n",
    "apple['change_30'] = apple.Close.sub(apple.shifted_30)\n",
    "\n",
    "# Get the 30-day price difference\n",
    "apple['diff_30'] = apple.Close.diff(30)\n",
    "\n",
    "# Inspect the last five rows of price\n",
    "print(apple.tail())\n",
    "\n",
    "# Show the value_counts of the difference between change_30 and diff_30\n",
    "print(apple.change_30.sub(apple.diff_30).value_counts())\n"
   ]
  },
  {
   "cell_type": "code",
   "execution_count": null,
   "metadata": {},
   "outputs": [],
   "source": []
  }
 ],
 "metadata": {
  "kernelspec": {
   "display_name": "Python 3",
   "language": "python",
   "name": "python3"
  },
  "language_info": {
   "codemirror_mode": {
    "name": "ipython",
    "version": 3
   },
   "file_extension": ".py",
   "mimetype": "text/x-python",
   "name": "python",
   "nbconvert_exporter": "python",
   "pygments_lexer": "ipython3",
   "version": "3.11.0"
  },
  "orig_nbformat": 4
 },
 "nbformat": 4,
 "nbformat_minor": 2
}
